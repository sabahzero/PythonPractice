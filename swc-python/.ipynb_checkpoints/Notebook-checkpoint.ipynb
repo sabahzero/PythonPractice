{
 "cells": [
  {
   "cell_type": "markdown",
   "id": "56724ebf",
   "metadata": {},
   "source": [
    "# Table of Contents\n",
    "* [Setup](#setup) 5 min\n",
    "* [Fundamentals](#fundamentals) 10 min, [problem solving](#problem1)\n",
    "* [Analyzing Data](#data) 25 min, [problem solving](#problem2) + [practice](#practice1)"
   ]
  },
  {
   "cell_type": "markdown",
   "id": "7e749026",
   "metadata": {},
   "source": [
    "### Setup <a class=\"anchor\" id=\"setup\"></a>\n",
    "https://swcarpentry.github.io/python-novice-inflammation/setup.html"
   ]
  },
  {
   "cell_type": "markdown",
   "id": "e3375ab1",
   "metadata": {},
   "source": [
    "### Fundamentals <a class=\"anchor\" id=\"fundamentals\"></a>\n",
    "https://swcarpentry.github.io/python-novice-inflammation/01-intro/index.html\n",
    "* Basic data types (3): Integers, strings, floating-point numbers\n",
    "* Use variable = value to assign a value to a variable \n",
    "* Variables are created on demand whenever a value is assigned \n",
    "* Use print(something) to display the value of something\n",
    "* Built-in functions are always available to use"
   ]
  },
  {
   "cell_type": "code",
   "execution_count": 1,
   "id": "23cba990",
   "metadata": {},
   "outputs": [
    {
     "data": {
      "text/plain": [
       "60"
      ]
     },
     "execution_count": 1,
     "metadata": {},
     "output_type": "execute_result"
    }
   ],
   "source": [
    "# Assign a value to a variable\n",
    "## A variable is analogous to a sticky note with a name written on it\n",
    "## Assigning a value to a variable is like putting that sticky note on a particular value\n",
    "## A value to one variable does't change values of other seemingly related variables\n",
    "\n",
    "weight_kg = 60\n",
    "weight_kg"
   ]
  },
  {
   "cell_type": "code",
   "execution_count": 2,
   "id": "7ab0a63d",
   "metadata": {},
   "outputs": [
    {
     "name": "stdout",
     "output_type": "stream",
     "text": [
      "<class 'float'>\n",
      "60 <class 'int'>\n",
      "001 <class 'str'>\n"
     ]
    }
   ],
   "source": [
    "# Types of Data\n",
    "\n",
    "## floating point numbers\n",
    "print(type(60.3))\n",
    "\n",
    "## integer numbers\n",
    "print(weight_kg, type(weight_kg))\n",
    "\n",
    "## strings\n",
    "patient_id = '001'\n",
    "print(patient_id, type(patient_id))"
   ]
  },
  {
   "cell_type": "code",
   "execution_count": 3,
   "id": "97d8c7d9",
   "metadata": {},
   "outputs": [
    {
     "name": "stdout",
     "output_type": "stream",
     "text": [
      "Weight in lbs: 132.0\n",
      "inflam_001\n"
     ]
    }
   ],
   "source": [
    "# Calculations\n",
    "weight_lb = 2.2 * weight_kg\n",
    "print(\"Weight in lbs:\", weight_lb)\n",
    "\n",
    "patient_id = 'inflam_' + patient_id\n",
    "print(patient_id)"
   ]
  },
  {
   "cell_type": "markdown",
   "id": "278333e3",
   "metadata": {},
   "source": [
    "#### Problem solving  <a class=\"anchor\" id=\"problem1\"></a>"
   ]
  },
  {
   "cell_type": "code",
   "execution_count": 5,
   "id": "5e352b1d",
   "metadata": {},
   "outputs": [
    {
     "name": "stdout",
     "output_type": "stream",
     "text": [
      "95.0\n",
      "102\n"
     ]
    }
   ],
   "source": [
    "## What values do the variables mass and age have after each of the following\n",
    "mass = 47.5\n",
    "age = 122\n",
    "\n",
    "mass = mass * 2.0\n",
    "print(mass)\n",
    "\n",
    "age = age - 20\n",
    "print(age)"
   ]
  },
  {
   "cell_type": "code",
   "execution_count": 6,
   "id": "f128b3db",
   "metadata": {},
   "outputs": [
    {
     "name": "stdout",
     "output_type": "stream",
     "text": [
      "Hopper Grace\n"
     ]
    }
   ],
   "source": [
    "## Python allows you to assign multiple values to multiple variables in one line by separating the variables and values with commas\n",
    "## What does the following program print out?\n",
    "\n",
    "first, second = 'Grace', 'Hopper'\n",
    "third, fourth = second, first\n",
    "print(third, fourth)"
   ]
  },
  {
   "cell_type": "code",
   "execution_count": 7,
   "id": "8c1f307e",
   "metadata": {},
   "outputs": [
    {
     "name": "stdout",
     "output_type": "stream",
     "text": [
      "<class 'str'>\n",
      "<class 'int'>\n",
      "<class 'float'>\n"
     ]
    }
   ],
   "source": [
    "## What are the data types of the following variables?\n",
    "\n",
    "planet = 'Earth'\n",
    "print(type(planet))\n",
    "\n",
    "apples = 5\n",
    "print(type(apples))\n",
    "\n",
    "distance = 10.5\n",
    "print(type(distance))"
   ]
  },
  {
   "cell_type": "markdown",
   "id": "975ed12d",
   "metadata": {},
   "source": [
    "### Analyzing Patient Data <a class=\"anchor\" id=\"data\"></a>\n",
    "https://swcarpentry.github.io/python-novice-inflammation/02-numpy/index.html"
   ]
  },
  {
   "cell_type": "code",
   "execution_count": 10,
   "id": "652828f4",
   "metadata": {},
   "outputs": [],
   "source": [
    "import numpy # Numerical Python (library) https://numpy.org/doc/stable/"
   ]
  },
  {
   "cell_type": "code",
   "execution_count": 3,
   "id": "bcb4ee01",
   "metadata": {},
   "outputs": [
    {
     "data": {
      "text/plain": [
       "array([[0., 0., 1., ..., 3., 0., 0.],\n",
       "       [0., 1., 2., ..., 1., 0., 1.],\n",
       "       [0., 1., 1., ..., 2., 1., 1.],\n",
       "       ...,\n",
       "       [0., 1., 1., ..., 1., 1., 1.],\n",
       "       [0., 0., 0., ..., 0., 2., 0.],\n",
       "       [0., 0., 1., ..., 1., 1., 0.]])"
      ]
     },
     "execution_count": 3,
     "metadata": {},
     "output_type": "execute_result"
    }
   ],
   "source": [
    "# Ask library to read file (array)\n",
    "numpy.loadtxt(fname='data/inflammation-01.csv', delimiter=',')"
   ]
  },
  {
   "cell_type": "code",
   "execution_count": 4,
   "id": "f1aeca70",
   "metadata": {},
   "outputs": [],
   "source": [
    "# Assign data output to 'data' variable\n",
    "data = numpy.loadtxt(fname='data/inflammation-01.csv', delimiter=',')"
   ]
  },
  {
   "cell_type": "code",
   "execution_count": 6,
   "id": "3f0e1e54",
   "metadata": {},
   "outputs": [
    {
     "name": "stdout",
     "output_type": "stream",
     "text": [
      "[[0. 0. 1. ... 3. 0. 0.]\n",
      " [0. 1. 2. ... 1. 0. 1.]\n",
      " [0. 1. 1. ... 2. 1. 1.]\n",
      " ...\n",
      " [0. 1. 1. ... 1. 1. 1.]\n",
      " [0. 0. 0. ... 0. 2. 0.]\n",
      " [0. 0. 1. ... 1. 1. 0.]]\n"
     ]
    }
   ],
   "source": [
    "print(data)"
   ]
  },
  {
   "cell_type": "code",
   "execution_count": 7,
   "id": "a1bd7029",
   "metadata": {},
   "outputs": [
    {
     "name": "stdout",
     "output_type": "stream",
     "text": [
      "<class 'numpy.ndarray'>\n"
     ]
    }
   ],
   "source": [
    "print(type(data))"
   ]
  },
  {
   "cell_type": "code",
   "execution_count": 8,
   "id": "b12b4e84",
   "metadata": {},
   "outputs": [
    {
     "name": "stdout",
     "output_type": "stream",
     "text": [
      "float64\n"
     ]
    }
   ],
   "source": [
    "# array contains one or more elements of the same type\n",
    "## tells us that the NumPy array’s elements are floating-point numbers\n",
    "\n",
    "print(data.dtype)"
   ]
  },
  {
   "cell_type": "code",
   "execution_count": 9,
   "id": "871e4939",
   "metadata": {},
   "outputs": [
    {
     "name": "stdout",
     "output_type": "stream",
     "text": [
      "(60, 40)\n"
     ]
    }
   ],
   "source": [
    "# tells us that the data array variable contains 60 rows and 40 columns\n",
    "\n",
    "print(data.shape)"
   ]
  },
  {
   "cell_type": "code",
   "execution_count": 10,
   "id": "2e1038e3",
   "metadata": {},
   "outputs": [
    {
     "name": "stdout",
     "output_type": "stream",
     "text": [
      "first value in data: 0.0\n"
     ]
    }
   ],
   "source": [
    "print('first value in data:', data[0, 0])"
   ]
  },
  {
   "cell_type": "code",
   "execution_count": 11,
   "id": "65033616",
   "metadata": {},
   "outputs": [
    {
     "name": "stdout",
     "output_type": "stream",
     "text": [
      "middle value in data: 13.0\n"
     ]
    }
   ],
   "source": [
    "print('middle value in data:', data[30, 20])\n",
    "\n",
    "# Programming languages like Fortran, MATLAB and R start counting at 1 because that’s what human beings have done \n",
    "# Languages in the C family (C++, Java, Perl, and Python) count from 0 as an offset from the first value in the array"
   ]
  },
  {
   "cell_type": "code",
   "execution_count": 12,
   "id": "7c18103a",
   "metadata": {},
   "outputs": [
    {
     "name": "stdout",
     "output_type": "stream",
     "text": [
      "[[0. 0. 1. 3. 1. 2. 4. 7. 8. 3.]\n",
      " [0. 1. 2. 1. 2. 1. 3. 2. 2. 6.]\n",
      " [0. 1. 1. 3. 3. 2. 6. 2. 5. 9.]\n",
      " [0. 0. 2. 0. 4. 2. 2. 1. 6. 7.]]\n"
     ]
    }
   ],
   "source": [
    "print(data[0:4, 0:10])"
   ]
  },
  {
   "cell_type": "code",
   "execution_count": 13,
   "id": "d524e5a6",
   "metadata": {},
   "outputs": [
    {
     "name": "stdout",
     "output_type": "stream",
     "text": [
      "[[0. 0. 1. 2. 2. 4. 2. 1. 6. 4.]\n",
      " [0. 0. 2. 2. 4. 2. 2. 5. 5. 8.]\n",
      " [0. 0. 1. 2. 3. 1. 2. 3. 5. 3.]\n",
      " [0. 0. 0. 3. 1. 5. 6. 5. 5. 8.]\n",
      " [0. 1. 1. 2. 1. 3. 5. 3. 5. 8.]]\n"
     ]
    }
   ],
   "source": [
    "print(data[5:10, 0:10])"
   ]
  },
  {
   "cell_type": "code",
   "execution_count": 14,
   "id": "a653b1b7",
   "metadata": {},
   "outputs": [
    {
     "name": "stdout",
     "output_type": "stream",
     "text": [
      "small is:\n",
      "[[2. 3. 0. 0.]\n",
      " [1. 1. 0. 1.]\n",
      " [2. 2. 1. 1.]]\n"
     ]
    }
   ],
   "source": [
    "small = data[:3, 36:]\n",
    "print('small is:')\n",
    "print(small)"
   ]
  },
  {
   "cell_type": "code",
   "execution_count": 15,
   "id": "7ffb4deb",
   "metadata": {},
   "outputs": [
    {
     "name": "stdout",
     "output_type": "stream",
     "text": [
      "6.14875\n"
     ]
    }
   ],
   "source": [
    "print(numpy.mean(data)) # mean value"
   ]
  },
  {
   "cell_type": "code",
   "execution_count": 16,
   "id": "45540a96",
   "metadata": {},
   "outputs": [
    {
     "name": "stdout",
     "output_type": "stream",
     "text": [
      "Mon Jun 13 22:19:58 2022\n"
     ]
    }
   ],
   "source": [
    "import time\n",
    "print(time.ctime())"
   ]
  },
  {
   "cell_type": "code",
   "execution_count": 17,
   "id": "191d27c7",
   "metadata": {},
   "outputs": [
    {
     "name": "stdout",
     "output_type": "stream",
     "text": [
      "maximum inflammation: 20.0\n",
      "minimum inflammation: 0.0\n",
      "standard deviation: 4.613833197118566\n"
     ]
    }
   ],
   "source": [
    "maxval, minval, stdval = numpy.max(data), numpy.min(data), numpy.std(data)\n",
    "\n",
    "print('maximum inflammation:', maxval)\n",
    "print('minimum inflammation:', minval)\n",
    "print('standard deviation:', stdval)"
   ]
  },
  {
   "cell_type": "code",
   "execution_count": 18,
   "id": "0dac8050",
   "metadata": {},
   "outputs": [
    {
     "name": "stdout",
     "output_type": "stream",
     "text": [
      "maximum inflammation for patient 0: 18.0\n"
     ]
    }
   ],
   "source": [
    "patient_0 = data[0, :] # 0 on the first axis (rows), everything on the second (columns)\n",
    "print('maximum inflammation for patient 0:', numpy.max(patient_0))"
   ]
  },
  {
   "cell_type": "code",
   "execution_count": 19,
   "id": "fe664c51",
   "metadata": {},
   "outputs": [
    {
     "name": "stdout",
     "output_type": "stream",
     "text": [
      "maximum inflammation for patient 2: 19.0\n"
     ]
    }
   ],
   "source": [
    "print('maximum inflammation for patient 2:', numpy.max(data[2, :]))"
   ]
  },
  {
   "cell_type": "code",
   "execution_count": 20,
   "id": "3d42de13",
   "metadata": {},
   "outputs": [
    {
     "name": "stdout",
     "output_type": "stream",
     "text": [
      "[ 0.          0.45        1.11666667  1.75        2.43333333  3.15\n",
      "  3.8         3.88333333  5.23333333  5.51666667  5.95        5.9\n",
      "  8.35        7.73333333  8.36666667  9.5         9.58333333 10.63333333\n",
      " 11.56666667 12.35       13.25       11.96666667 11.03333333 10.16666667\n",
      " 10.          8.66666667  9.15        7.25        7.33333333  6.58333333\n",
      "  6.06666667  5.95        5.11666667  3.6         3.3         3.56666667\n",
      "  2.48333333  1.5         1.13333333  0.56666667]\n"
     ]
    }
   ],
   "source": [
    "# ask for the average across axis 0 (rows in our 2D example)\n",
    "print(numpy.mean(data, axis=0))"
   ]
  },
  {
   "cell_type": "code",
   "execution_count": 21,
   "id": "c1c4afa2",
   "metadata": {},
   "outputs": [
    {
     "name": "stdout",
     "output_type": "stream",
     "text": [
      "(40,)\n"
     ]
    }
   ],
   "source": [
    "print(numpy.mean(data, axis=0).shape) # this is the average inflammation per day for all patients"
   ]
  },
  {
   "cell_type": "code",
   "execution_count": 22,
   "id": "fbd1c708",
   "metadata": {},
   "outputs": [
    {
     "name": "stdout",
     "output_type": "stream",
     "text": [
      "[5.45  5.425 6.1   5.9   5.55  6.225 5.975 6.65  6.625 6.525 6.775 5.8\n",
      " 6.225 5.75  5.225 6.3   6.55  5.7   5.85  6.55  5.775 5.825 6.175 6.1\n",
      " 5.8   6.425 6.05  6.025 6.175 6.55  6.175 6.35  6.725 6.125 7.075 5.725\n",
      " 5.925 6.15  6.075 5.75  5.975 5.725 6.3   5.9   6.75  5.925 7.225 6.15\n",
      " 5.95  6.275 5.7   6.1   6.825 5.975 6.725 5.7   6.25  6.4   7.05  5.9  ]\n"
     ]
    }
   ],
   "source": [
    "# if we average across axis 1 (columns in our 2D example), we get\n",
    "print(numpy.mean(data, axis=1))"
   ]
  },
  {
   "cell_type": "code",
   "execution_count": 23,
   "id": "cba07815",
   "metadata": {},
   "outputs": [
    {
     "name": "stdout",
     "output_type": "stream",
     "text": [
      "first three characters: oxy\n",
      "last three characters: gen\n"
     ]
    }
   ],
   "source": [
    "# A section of an array is called a slice\n",
    "## We can take slices of character strings as well\n",
    "\n",
    "element = 'oxygen'\n",
    "print('first three characters:', element[0:3])\n",
    "print('last three characters:', element[3:6])"
   ]
  },
  {
   "cell_type": "markdown",
   "id": "3275c588",
   "metadata": {},
   "source": [
    "#### Problem solving  <a class=\"anchor\" id=\"problem2\"></a>"
   ]
  },
  {
   "cell_type": "code",
   "execution_count": 24,
   "id": "f6aef37b",
   "metadata": {},
   "outputs": [
    {
     "name": "stdout",
     "output_type": "stream",
     "text": [
      "element[:4] oxyg\n",
      "element[4:] en\n",
      "element[:] oxygen\n"
     ]
    }
   ],
   "source": [
    "## What is the value of element[:4]? What about element[4:]? Or element[:]?\n",
    "print('element[:4]', element[:4])\n",
    "print('element[4:]', element[4:])\n",
    "print('element[:]', element[:])"
   ]
  },
  {
   "cell_type": "code",
   "execution_count": 25,
   "id": "12951c7d",
   "metadata": {},
   "outputs": [
    {
     "name": "stdout",
     "output_type": "stream",
     "text": [
      "element[-1] n\n",
      "element[-2] e\n"
     ]
    }
   ],
   "source": [
    "## What is element[-1]? What is element[-2]?\n",
    "print('element[-1]', element[-1])\n",
    "print('element[-2]', element[-2])"
   ]
  },
  {
   "cell_type": "code",
   "execution_count": 26,
   "id": "07eb2249",
   "metadata": {},
   "outputs": [
    {
     "name": "stdout",
     "output_type": "stream",
     "text": [
      "element[1:-1] xyge\n"
     ]
    }
   ],
   "source": [
    "## Given those answers, explain what element[1:-1] does\n",
    "print('element[1:-1]', element[1:-1])"
   ]
  },
  {
   "cell_type": "code",
   "execution_count": 34,
   "id": "32823241",
   "metadata": {},
   "outputs": [
    {
     "name": "stdout",
     "output_type": "stream",
     "text": [
      "element[-3] try\n",
      "element[-3] one\n",
      "element[-3] hi\n"
     ]
    }
   ],
   "source": [
    "## How can we rewrite the slice for getting the last three characters of element,\n",
    "## so that it works even if we assign a different string to element? \n",
    "## Test your solution with the following strings: carpentry, clone, hi\n",
    "\n",
    "element = 'carpentry'\n",
    "print('element[-3]', element[-3:])\n",
    "\n",
    "element = 'clone'\n",
    "print('element[-3]', element[-3:])\n",
    "\n",
    "element = 'hi'\n",
    "print('element[-3]', element[-3:])"
   ]
  },
  {
   "cell_type": "code",
   "execution_count": 19,
   "id": "334fbb7f",
   "metadata": {},
   "outputs": [
    {
     "name": "stdout",
     "output_type": "stream",
     "text": [
      "[]\n",
      "[]\n",
      "shape (0, 0)\n",
      "shape (0, 40)\n",
      "type float64\n",
      "type float64\n"
     ]
    }
   ],
   "source": [
    "## The expression element[3:3] produces an empty string, i.e., a string that contains no characters\n",
    "## If data holds our array of patient data, what does data[3:3, 4:4] produce? \n",
    "## What about data[3:3, :]?\n",
    "\n",
    "print(data[3:3, 4:4])\n",
    "print(data[3:3, :])\n",
    "\n",
    "print(\"shape\", data[3:3, 4:4].shape)\n",
    "print(\"shape\", data[3:3, :].shape)\n",
    "\n",
    "print(\"type\", data[3:3, 4:4].dtype)\n",
    "print(\"type\", data[3:3, :].dtype)"
   ]
  },
  {
   "cell_type": "code",
   "execution_count": 20,
   "id": "25b6bec3",
   "metadata": {},
   "outputs": [
    {
     "name": "stdout",
     "output_type": "stream",
     "text": [
      "A = \n",
      "[[1 2 3]\n",
      " [4 5 6]\n",
      " [7 8 9]]\n",
      "B = \n",
      "[[1 2 3 1 2 3]\n",
      " [4 5 6 4 5 6]\n",
      " [7 8 9 7 8 9]]\n",
      "C = \n",
      "[[1 2 3]\n",
      " [4 5 6]\n",
      " [7 8 9]\n",
      " [1 2 3]\n",
      " [4 5 6]\n",
      " [7 8 9]]\n"
     ]
    }
   ],
   "source": [
    "## Arrays can be concatenated and stacked on top of one another\n",
    "## using NumPy’s vstack and hstack functions for vertical and horizontal stacking\n",
    "\n",
    "A = numpy.array([[1,2,3], [4,5,6], [7, 8, 9]])\n",
    "print('A = ')\n",
    "print(A)\n",
    "\n",
    "B = numpy.hstack([A, A])\n",
    "print('B = ')\n",
    "print(B)\n",
    "\n",
    "C = numpy.vstack([A, A])\n",
    "print('C = ')\n",
    "print(C)"
   ]
  },
  {
   "cell_type": "markdown",
   "id": "1cff68db",
   "metadata": {},
   "source": [
    "#### Practice <a class=\"anchor\" id=\"practice1\"></a>\n",
    "\n",
    "Write some additional code that slices the first and last columns of A\n",
    "and stack them into a 3x2 array"
   ]
  },
  {
   "cell_type": "code",
   "execution_count": 33,
   "id": "170a749e",
   "metadata": {},
   "outputs": [],
   "source": [
    "## Practice here\n",
    "\n",
    "##\n",
    "##\n",
    "##\n",
    "##\n",
    "##"
   ]
  },
  {
   "cell_type": "code",
   "execution_count": 34,
   "id": "a451d147",
   "metadata": {},
   "outputs": [
    {
     "name": "stdout",
     "output_type": "stream",
     "text": [
      "A = \n",
      "[[1 2 3]\n",
      " [4 5 6]\n",
      " [7 8 9]]\n",
      "D1 = \n",
      "[[1 3]\n",
      " [4 6]\n",
      " [7 9]]\n",
      "D2 = \n",
      "[[1 3]\n",
      " [4 6]\n",
      " [7 9]]\n"
     ]
    }
   ],
   "source": [
    "## Solution\n",
    "\n",
    "A = numpy.array([[1,2,3], [4,5,6], [7, 8, 9]])\n",
    "print('A = ')\n",
    "print(A)\n",
    "\n",
    "D1 = numpy.hstack((A[:, :1], A[:, -1:]))\n",
    "print('D1 = ')\n",
    "print(D1)\n",
    "\n",
    "D2 = numpy.delete(A, 1, 1)\n",
    "print('D2 = ')\n",
    "print(D2)"
   ]
  },
  {
   "cell_type": "code",
   "execution_count": 35,
   "id": "26051dec",
   "metadata": {},
   "outputs": [
    {
     "name": "stdout",
     "output_type": "stream",
     "text": [
      "[0. 0. 2. 0. 4. 2. 2.]\n"
     ]
    }
   ],
   "source": [
    "## The patient data is longitudinal in that each row represents \n",
    "## a series of observations relating to one individual\n",
    "## This means that the change in inflammation over time is meaningful \n",
    "\n",
    "## Calculate changes in the data contained in an array with NumPy\n",
    "## The numpy.diff() function takes an array and \n",
    "## returns the differences between two successive values\n",
    "\n",
    "## use it to examine the changes each day across \n",
    "## the first week of patient 3 from our inflammation dataset\n",
    "\n",
    "patient3_week1 = data[3, :7]\n",
    "print(patient3_week1)"
   ]
  },
  {
   "cell_type": "code",
   "execution_count": 36,
   "id": "68569c77",
   "metadata": {},
   "outputs": [
    {
     "data": {
      "text/plain": [
       "array([ 0.,  2., -2.,  4., -2.,  0.])"
      ]
     },
     "execution_count": 36,
     "metadata": {},
     "output_type": "execute_result"
    }
   ],
   "source": [
    "## returns the 6 difference values in a new array\n",
    "## the array of differences is shorter by one element (length 6)\n",
    "\n",
    "numpy.diff(patient3_week1)"
   ]
  },
  {
   "cell_type": "code",
   "execution_count": 38,
   "id": "e055b519",
   "metadata": {},
   "outputs": [
    {
     "data": {
      "text/plain": [
       "array([[ 0.,  1.,  2., ...,  1., -3.,  0.],\n",
       "       [ 1.,  1., -1., ...,  0., -1.,  1.],\n",
       "       [ 1.,  0.,  2., ...,  0., -1.,  0.],\n",
       "       ...,\n",
       "       [ 1.,  0.,  0., ..., -1.,  0.,  0.],\n",
       "       [ 0.,  0.,  1., ..., -2.,  2., -2.],\n",
       "       [ 0.,  1., -1., ..., -2.,  0., -1.]])"
      ]
     },
     "execution_count": 38,
     "metadata": {},
     "output_type": "execute_result"
    }
   ],
   "source": [
    "## When calling numpy.diff with a multi-dimensional array\n",
    "## an axis argument may be passed to the function to \n",
    "## specify which axis to process\n",
    "\n",
    "## When applying numpy.diff to our 2D inflammation array data\n",
    "## which axis would we specify?\n",
    "numpy.diff(data, axis=1)"
   ]
  },
  {
   "cell_type": "code",
   "execution_count": null,
   "id": "4f600559",
   "metadata": {},
   "outputs": [],
   "source": [
    "## If the shape of an individual data file is (60, 40) (60 rows, 40 cols)\n",
    "## what would the shape of the array be after you run the diff() \n",
    "\n",
    "## 60, 39 \n",
    "## because there is one fewer difference between columns than \n",
    "## there are columns in the data"
   ]
  },
  {
   "cell_type": "code",
   "execution_count": null,
   "id": "2a55ad9b",
   "metadata": {},
   "outputs": [],
   "source": [
    "## How would you find the largest inflammation change per patient? \n",
    "## Does it matter if the change in inflammation is an increase or decrease?\n",
    "\n"
   ]
  }
 ],
 "metadata": {
  "kernelspec": {
   "display_name": "Python 3",
   "language": "python",
   "name": "python3"
  },
  "language_info": {
   "codemirror_mode": {
    "name": "ipython",
    "version": 3
   },
   "file_extension": ".py",
   "mimetype": "text/x-python",
   "name": "python",
   "nbconvert_exporter": "python",
   "pygments_lexer": "ipython3",
   "version": "3.8.8"
  }
 },
 "nbformat": 4,
 "nbformat_minor": 5
}
