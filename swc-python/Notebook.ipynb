{
 "cells": [
  {
   "cell_type": "markdown",
   "id": "56724ebf",
   "metadata": {},
   "source": [
    "# Table of Contents\n",
    "* [Setup](#setup) 5 min\n",
    "* [Fundamentals](#fundamentals) 10 min\n",
    "* [Analyzing Data](#data)"
   ]
  },
  {
   "cell_type": "markdown",
   "id": "7e749026",
   "metadata": {},
   "source": [
    "### Setup <a class=\"anchor\" id=\"setup\"></a>\n",
    "https://swcarpentry.github.io/python-novice-inflammation/setup.html"
   ]
  },
  {
   "cell_type": "markdown",
   "id": "e3375ab1",
   "metadata": {},
   "source": [
    "### Fundamentals <a class=\"anchor\" id=\"fundamentals\"></a>\n",
    "https://swcarpentry.github.io/python-novice-inflammation/01-intro/index.html\n",
    "* Basic data types (3): Integers, strings, floating-point numbers\n",
    "* Use variable = value to assign a value to a variable \n",
    "* Variables are created on demand whenever a value is assigned \n",
    "* Use print(something) to display the value of something\n",
    "* Built-in functions are always available to use"
   ]
  },
  {
   "cell_type": "code",
   "execution_count": 1,
   "id": "23cba990",
   "metadata": {},
   "outputs": [
    {
     "data": {
      "text/plain": [
       "60"
      ]
     },
     "execution_count": 1,
     "metadata": {},
     "output_type": "execute_result"
    }
   ],
   "source": [
    "# Assign a value to a variable\n",
    "## A variable is analogous to a sticky note with a name written on it\n",
    "## Assigning a value to a variable is like putting that sticky note on a particular value\n",
    "## A value to one variable does't change values of other seemingly related variables\n",
    "\n",
    "weight_kg = 60\n",
    "weight_kg"
   ]
  },
  {
   "cell_type": "code",
   "execution_count": 2,
   "id": "7ab0a63d",
   "metadata": {},
   "outputs": [
    {
     "name": "stdout",
     "output_type": "stream",
     "text": [
      "<class 'float'>\n",
      "60 <class 'int'>\n",
      "001 <class 'str'>\n"
     ]
    }
   ],
   "source": [
    "# Types of Data\n",
    "\n",
    "## floating point numbers\n",
    "print(type(60.3))\n",
    "\n",
    "## integer numbers\n",
    "print(weight_kg, type(weight_kg))\n",
    "\n",
    "## strings\n",
    "patient_id = '001'\n",
    "print(patient_id, type(patient_id))"
   ]
  },
  {
   "cell_type": "code",
   "execution_count": 3,
   "id": "97d8c7d9",
   "metadata": {},
   "outputs": [
    {
     "name": "stdout",
     "output_type": "stream",
     "text": [
      "Weight in lbs: 132.0\n",
      "inflam_001\n"
     ]
    }
   ],
   "source": [
    "# Calculations\n",
    "weight_lb = 2.2 * weight_kg\n",
    "print(\"Weight in lbs:\", weight_lb)\n",
    "\n",
    "patient_id = 'inflam_' + patient_id\n",
    "print(patient_id)"
   ]
  },
  {
   "cell_type": "code",
   "execution_count": 4,
   "id": "d04962f5",
   "metadata": {},
   "outputs": [],
   "source": [
    "# Problem solving "
   ]
  },
  {
   "cell_type": "code",
   "execution_count": 5,
   "id": "5e352b1d",
   "metadata": {},
   "outputs": [
    {
     "name": "stdout",
     "output_type": "stream",
     "text": [
      "95.0\n",
      "102\n"
     ]
    }
   ],
   "source": [
    "## What values do the variables mass and age have after each of the following\n",
    "mass = 47.5\n",
    "age = 122\n",
    "\n",
    "mass = mass * 2.0\n",
    "print(mass)\n",
    "\n",
    "age = age - 20\n",
    "print(age)"
   ]
  },
  {
   "cell_type": "code",
   "execution_count": 6,
   "id": "f128b3db",
   "metadata": {},
   "outputs": [
    {
     "name": "stdout",
     "output_type": "stream",
     "text": [
      "Hopper Grace\n"
     ]
    }
   ],
   "source": [
    "## Python allows you to assign multiple values to multiple variables in one line by separating the variables and values with commas\n",
    "## What does the following program print out?\n",
    "\n",
    "first, second = 'Grace', 'Hopper'\n",
    "third, fourth = second, first\n",
    "print(third, fourth)"
   ]
  },
  {
   "cell_type": "code",
   "execution_count": 7,
   "id": "8c1f307e",
   "metadata": {},
   "outputs": [
    {
     "name": "stdout",
     "output_type": "stream",
     "text": [
      "<class 'str'>\n",
      "<class 'int'>\n",
      "<class 'float'>\n"
     ]
    }
   ],
   "source": [
    "## What are the data types of the following variables?\n",
    "\n",
    "planet = 'Earth'\n",
    "print(type(planet))\n",
    "\n",
    "apples = 5\n",
    "print(type(apples))\n",
    "\n",
    "distance = 10.5\n",
    "print(type(distance))"
   ]
  },
  {
   "cell_type": "markdown",
   "id": "975ed12d",
   "metadata": {},
   "source": [
    "### Analyzing Patient Data <a class=\"anchor\" id=\"data\"></a>\n",
    "https://swcarpentry.github.io/python-novice-inflammation/02-numpy/index.html"
   ]
  },
  {
   "cell_type": "code",
   "execution_count": 1,
   "id": "652828f4",
   "metadata": {},
   "outputs": [],
   "source": [
    "import numpy # Numerical Python (library) https://numpy.org/doc/stable/"
   ]
  },
  {
   "cell_type": "code",
   "execution_count": 3,
   "id": "7b1c9daf",
   "metadata": {},
   "outputs": [
    {
     "data": {
      "text/plain": [
       "array([[0., 0., 1., ..., 3., 0., 0.],\n",
       "       [0., 1., 2., ..., 1., 0., 1.],\n",
       "       [0., 1., 1., ..., 2., 1., 1.],\n",
       "       ...,\n",
       "       [0., 1., 1., ..., 1., 1., 1.],\n",
       "       [0., 0., 0., ..., 0., 2., 0.],\n",
       "       [0., 0., 1., ..., 1., 1., 0.]])"
      ]
     },
     "execution_count": 3,
     "metadata": {},
     "output_type": "execute_result"
    }
   ],
   "source": [
    "# Ask library to read file (array)\n",
    "numpy.loadtxt(fname='data/inflammation-01.csv', delimiter=',')"
   ]
  },
  {
   "cell_type": "code",
   "execution_count": null,
   "id": "51fb5423",
   "metadata": {},
   "outputs": [],
   "source": []
  }
 ],
 "metadata": {
  "kernelspec": {
   "display_name": "Python 3",
   "language": "python",
   "name": "python3"
  },
  "language_info": {
   "codemirror_mode": {
    "name": "ipython",
    "version": 3
   },
   "file_extension": ".py",
   "mimetype": "text/x-python",
   "name": "python",
   "nbconvert_exporter": "python",
   "pygments_lexer": "ipython3",
   "version": "3.8.8"
  }
 },
 "nbformat": 4,
 "nbformat_minor": 5
}
