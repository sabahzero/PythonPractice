{
 "cells": [
  {
   "cell_type": "markdown",
   "id": "79c5e1b4",
   "metadata": {},
   "source": [
    "# Table of Contents\n",
    "\n",
    "* [Setup](#setup) 5 min\n",
    "* [Fundamentals](#fundamentals) 10 min, [problem solving](#problem1)\n",
    "* [Analyzing Data](#data) 25 min, [problem solving](#problem2) + [practice](#practice1)\n",
    "* [Visualizing Tabular Data](#visualize) 30 min, [problem solving](#problem3) \n",
    "* [Storing Multiple Values in Lists](#lists) 20 min, [probelm solving](#problem4)\n",
    "* [Repeating Actions with Loops](#loops) 20 min, [probelm solving](#problem5)"
   ]
  },
  {
   "cell_type": "markdown",
   "id": "7e749026",
   "metadata": {},
   "source": [
    "### Setup <a class=\"anchor\" id=\"setup\"></a>\n",
    "https://swcarpentry.github.io/python-novice-inflammation/setup.html"
   ]
  },
  {
   "cell_type": "markdown",
   "id": "e3375ab1",
   "metadata": {},
   "source": [
    "### Fundamentals <a class=\"anchor\" id=\"fundamentals\"></a>\n",
    "https://swcarpentry.github.io/python-novice-inflammation/01-intro/index.html\n",
    "* Basic data types (3): Integers, strings, floating-point numbers\n",
    "* Use variable = value to assign a value to a variable \n",
    "* Variables are created on demand whenever a value is assigned \n",
    "* Use print(something) to display the value of something\n",
    "* Built-in functions are always available to use"
   ]
  },
  {
   "cell_type": "code",
   "execution_count": 1,
   "id": "23cba990",
   "metadata": {},
   "outputs": [
    {
     "data": {
      "text/plain": [
       "60"
      ]
     },
     "execution_count": 1,
     "metadata": {},
     "output_type": "execute_result"
    }
   ],
   "source": [
    "# Assign a value to a variable\n",
    "## A variable is analogous to a sticky note with a name written on it\n",
    "## Assigning a value to a variable is like putting that sticky note on a particular value\n",
    "## A value to one variable does't change values of other seemingly related variables\n",
    "\n",
    "weight_kg = 60\n",
    "weight_kg"
   ]
  },
  {
   "cell_type": "code",
   "execution_count": 2,
   "id": "7ab0a63d",
   "metadata": {},
   "outputs": [
    {
     "name": "stdout",
     "output_type": "stream",
     "text": [
      "<class 'float'>\n",
      "60 <class 'int'>\n",
      "001 <class 'str'>\n"
     ]
    }
   ],
   "source": [
    "# Types of Data\n",
    "\n",
    "## floating point numbers\n",
    "print(type(60.3))\n",
    "\n",
    "## integer numbers\n",
    "print(weight_kg, type(weight_kg))\n",
    "\n",
    "## strings\n",
    "patient_id = '001'\n",
    "print(patient_id, type(patient_id))"
   ]
  },
  {
   "cell_type": "code",
   "execution_count": 3,
   "id": "97d8c7d9",
   "metadata": {},
   "outputs": [
    {
     "name": "stdout",
     "output_type": "stream",
     "text": [
      "Weight in lbs: 132.0\n",
      "inflam_001\n"
     ]
    }
   ],
   "source": [
    "# Calculations\n",
    "weight_lb = 2.2 * weight_kg\n",
    "print(\"Weight in lbs:\", weight_lb)\n",
    "\n",
    "patient_id = 'inflam_' + patient_id\n",
    "print(patient_id)"
   ]
  },
  {
   "cell_type": "markdown",
   "id": "278333e3",
   "metadata": {},
   "source": [
    "#### Problem solving  <a class=\"anchor\" id=\"problem1\"></a>"
   ]
  },
  {
   "cell_type": "code",
   "execution_count": 4,
   "id": "5e352b1d",
   "metadata": {},
   "outputs": [
    {
     "name": "stdout",
     "output_type": "stream",
     "text": [
      "95.0\n",
      "102\n"
     ]
    }
   ],
   "source": [
    "## What values do the variables mass and age have after each of the following\n",
    "mass = 47.5\n",
    "age = 122\n",
    "\n",
    "mass = mass * 2.0\n",
    "print(mass)\n",
    "\n",
    "age = age - 20\n",
    "print(age)"
   ]
  },
  {
   "cell_type": "code",
   "execution_count": 5,
   "id": "f128b3db",
   "metadata": {},
   "outputs": [
    {
     "name": "stdout",
     "output_type": "stream",
     "text": [
      "Hopper Grace\n"
     ]
    }
   ],
   "source": [
    "## Python allows you to assign multiple values to multiple variables in one line by separating the variables and values with commas\n",
    "## What does the following program print out?\n",
    "\n",
    "first, second = 'Grace', 'Hopper'\n",
    "third, fourth = second, first\n",
    "print(third, fourth)"
   ]
  },
  {
   "cell_type": "code",
   "execution_count": 6,
   "id": "8c1f307e",
   "metadata": {},
   "outputs": [
    {
     "name": "stdout",
     "output_type": "stream",
     "text": [
      "<class 'str'>\n",
      "<class 'int'>\n",
      "<class 'float'>\n"
     ]
    }
   ],
   "source": [
    "## What are the data types of the following variables?\n",
    "\n",
    "planet = 'Earth'\n",
    "print(type(planet))\n",
    "\n",
    "apples = 5\n",
    "print(type(apples))\n",
    "\n",
    "distance = 10.5\n",
    "print(type(distance))"
   ]
  },
  {
   "cell_type": "markdown",
   "id": "975ed12d",
   "metadata": {},
   "source": [
    "### Analyzing Patient Data <a class=\"anchor\" id=\"data\"></a>\n",
    "https://swcarpentry.github.io/python-novice-inflammation/02-numpy/index.html\n",
    "\n",
    "* Import a library into a program\n",
    "* Use the numpy library to work with arrays \n",
    "* The expression array.shape gives the shape of an array\n",
    "* Use array[x, y] to select a single element from a 2D array\n",
    "* Array indices start at 0, not 1\n",
    "* Use low:high to specify a slice \n",
    "* numpy.mean(array), numpy.max(array), numpy.min(array) for simple stats\n",
    "* numpy.mean(array, axis=0) or numpy.mean(array, axis=1) for stats specific to axis "
   ]
  },
  {
   "cell_type": "code",
   "execution_count": 7,
   "id": "652828f4",
   "metadata": {},
   "outputs": [],
   "source": [
    "import numpy # Numerical Python (library) https://numpy.org/doc/stable/"
   ]
  },
  {
   "cell_type": "code",
   "execution_count": 8,
   "id": "bcb4ee01",
   "metadata": {},
   "outputs": [
    {
     "data": {
      "text/plain": [
       "array([[0., 0., 1., ..., 3., 0., 0.],\n",
       "       [0., 1., 2., ..., 1., 0., 1.],\n",
       "       [0., 1., 1., ..., 2., 1., 1.],\n",
       "       ...,\n",
       "       [0., 1., 1., ..., 1., 1., 1.],\n",
       "       [0., 0., 0., ..., 0., 2., 0.],\n",
       "       [0., 0., 1., ..., 1., 1., 0.]])"
      ]
     },
     "execution_count": 8,
     "metadata": {},
     "output_type": "execute_result"
    }
   ],
   "source": [
    "# Ask library to read file (array)\n",
    "numpy.loadtxt(fname='data/inflammation-01.csv', delimiter=',')"
   ]
  },
  {
   "cell_type": "code",
   "execution_count": 9,
   "id": "f1aeca70",
   "metadata": {},
   "outputs": [],
   "source": [
    "# Assign data output to 'data' variable\n",
    "data = numpy.loadtxt(fname='data/inflammation-01.csv', delimiter=',')"
   ]
  },
  {
   "cell_type": "code",
   "execution_count": 10,
   "id": "3f0e1e54",
   "metadata": {},
   "outputs": [
    {
     "name": "stdout",
     "output_type": "stream",
     "text": [
      "[[0. 0. 1. ... 3. 0. 0.]\n",
      " [0. 1. 2. ... 1. 0. 1.]\n",
      " [0. 1. 1. ... 2. 1. 1.]\n",
      " ...\n",
      " [0. 1. 1. ... 1. 1. 1.]\n",
      " [0. 0. 0. ... 0. 2. 0.]\n",
      " [0. 0. 1. ... 1. 1. 0.]]\n"
     ]
    }
   ],
   "source": [
    "print(data)"
   ]
  },
  {
   "cell_type": "code",
   "execution_count": 11,
   "id": "a1bd7029",
   "metadata": {},
   "outputs": [
    {
     "name": "stdout",
     "output_type": "stream",
     "text": [
      "<class 'numpy.ndarray'>\n"
     ]
    }
   ],
   "source": [
    "print(type(data))"
   ]
  },
  {
   "cell_type": "code",
   "execution_count": 12,
   "id": "b12b4e84",
   "metadata": {},
   "outputs": [
    {
     "name": "stdout",
     "output_type": "stream",
     "text": [
      "float64\n"
     ]
    }
   ],
   "source": [
    "# array contains one or more elements of the same type\n",
    "## tells us that the NumPy array’s elements are floating-point numbers\n",
    "\n",
    "print(data.dtype)"
   ]
  },
  {
   "cell_type": "code",
   "execution_count": 13,
   "id": "871e4939",
   "metadata": {},
   "outputs": [
    {
     "name": "stdout",
     "output_type": "stream",
     "text": [
      "(60, 40)\n"
     ]
    }
   ],
   "source": [
    "# tells us that the data array variable contains 60 rows and 40 columns\n",
    "\n",
    "print(data.shape)"
   ]
  },
  {
   "cell_type": "code",
   "execution_count": 14,
   "id": "2e1038e3",
   "metadata": {},
   "outputs": [
    {
     "name": "stdout",
     "output_type": "stream",
     "text": [
      "first value in data: 0.0\n"
     ]
    }
   ],
   "source": [
    "print('first value in data:', data[0, 0])"
   ]
  },
  {
   "cell_type": "code",
   "execution_count": 15,
   "id": "65033616",
   "metadata": {},
   "outputs": [
    {
     "name": "stdout",
     "output_type": "stream",
     "text": [
      "middle value in data: 13.0\n"
     ]
    }
   ],
   "source": [
    "print('middle value in data:', data[30, 20])\n",
    "\n",
    "# Programming languages like Fortran, MATLAB and R start counting at 1 because that’s what human beings have done \n",
    "# Languages in the C family (C++, Java, Perl, and Python) count from 0 as an offset from the first value in the array"
   ]
  },
  {
   "cell_type": "code",
   "execution_count": 16,
   "id": "7c18103a",
   "metadata": {},
   "outputs": [
    {
     "name": "stdout",
     "output_type": "stream",
     "text": [
      "[[0. 0. 1. 3. 1. 2. 4. 7. 8. 3.]\n",
      " [0. 1. 2. 1. 2. 1. 3. 2. 2. 6.]\n",
      " [0. 1. 1. 3. 3. 2. 6. 2. 5. 9.]\n",
      " [0. 0. 2. 0. 4. 2. 2. 1. 6. 7.]]\n"
     ]
    }
   ],
   "source": [
    "print(data[0:4, 0:10])"
   ]
  },
  {
   "cell_type": "code",
   "execution_count": 17,
   "id": "d524e5a6",
   "metadata": {},
   "outputs": [
    {
     "name": "stdout",
     "output_type": "stream",
     "text": [
      "[[0. 0. 1. 2. 2. 4. 2. 1. 6. 4.]\n",
      " [0. 0. 2. 2. 4. 2. 2. 5. 5. 8.]\n",
      " [0. 0. 1. 2. 3. 1. 2. 3. 5. 3.]\n",
      " [0. 0. 0. 3. 1. 5. 6. 5. 5. 8.]\n",
      " [0. 1. 1. 2. 1. 3. 5. 3. 5. 8.]]\n"
     ]
    }
   ],
   "source": [
    "print(data[5:10, 0:10])"
   ]
  },
  {
   "cell_type": "code",
   "execution_count": 18,
   "id": "a653b1b7",
   "metadata": {},
   "outputs": [
    {
     "name": "stdout",
     "output_type": "stream",
     "text": [
      "small is:\n",
      "[[2. 3. 0. 0.]\n",
      " [1. 1. 0. 1.]\n",
      " [2. 2. 1. 1.]]\n"
     ]
    }
   ],
   "source": [
    "small = data[:3, 36:]\n",
    "print('small is:')\n",
    "print(small)"
   ]
  },
  {
   "cell_type": "code",
   "execution_count": 19,
   "id": "7ffb4deb",
   "metadata": {},
   "outputs": [
    {
     "name": "stdout",
     "output_type": "stream",
     "text": [
      "6.14875\n"
     ]
    }
   ],
   "source": [
    "print(numpy.mean(data)) # mean value"
   ]
  },
  {
   "cell_type": "code",
   "execution_count": 20,
   "id": "45540a96",
   "metadata": {},
   "outputs": [
    {
     "name": "stdout",
     "output_type": "stream",
     "text": [
      "Wed Jul 20 11:56:28 2022\n"
     ]
    }
   ],
   "source": [
    "import time\n",
    "print(time.ctime())"
   ]
  },
  {
   "cell_type": "code",
   "execution_count": 21,
   "id": "191d27c7",
   "metadata": {},
   "outputs": [
    {
     "name": "stdout",
     "output_type": "stream",
     "text": [
      "maximum inflammation: 20.0\n",
      "minimum inflammation: 0.0\n",
      "standard deviation: 4.613833197118566\n"
     ]
    }
   ],
   "source": [
    "maxval, minval, stdval = numpy.max(data), numpy.min(data), numpy.std(data)\n",
    "\n",
    "print('maximum inflammation:', maxval)\n",
    "print('minimum inflammation:', minval)\n",
    "print('standard deviation:', stdval)"
   ]
  },
  {
   "cell_type": "code",
   "execution_count": 22,
   "id": "0dac8050",
   "metadata": {},
   "outputs": [
    {
     "name": "stdout",
     "output_type": "stream",
     "text": [
      "maximum inflammation for patient 0: 18.0\n"
     ]
    }
   ],
   "source": [
    "patient_0 = data[0, :] # 0 on the first axis (rows), everything on the second (columns)\n",
    "print('maximum inflammation for patient 0:', numpy.max(patient_0))"
   ]
  },
  {
   "cell_type": "code",
   "execution_count": 23,
   "id": "fe664c51",
   "metadata": {},
   "outputs": [
    {
     "name": "stdout",
     "output_type": "stream",
     "text": [
      "maximum inflammation for patient 2: 19.0\n"
     ]
    }
   ],
   "source": [
    "print('maximum inflammation for patient 2:', numpy.max(data[2, :]))"
   ]
  },
  {
   "cell_type": "code",
   "execution_count": 24,
   "id": "3d42de13",
   "metadata": {},
   "outputs": [
    {
     "name": "stdout",
     "output_type": "stream",
     "text": [
      "[ 0.          0.45        1.11666667  1.75        2.43333333  3.15\n",
      "  3.8         3.88333333  5.23333333  5.51666667  5.95        5.9\n",
      "  8.35        7.73333333  8.36666667  9.5         9.58333333 10.63333333\n",
      " 11.56666667 12.35       13.25       11.96666667 11.03333333 10.16666667\n",
      " 10.          8.66666667  9.15        7.25        7.33333333  6.58333333\n",
      "  6.06666667  5.95        5.11666667  3.6         3.3         3.56666667\n",
      "  2.48333333  1.5         1.13333333  0.56666667]\n"
     ]
    }
   ],
   "source": [
    "# ask for the average across axis 0 (rows in our 2D example)\n",
    "print(numpy.mean(data, axis=0))"
   ]
  },
  {
   "cell_type": "code",
   "execution_count": 25,
   "id": "c1c4afa2",
   "metadata": {},
   "outputs": [
    {
     "name": "stdout",
     "output_type": "stream",
     "text": [
      "(40,)\n"
     ]
    }
   ],
   "source": [
    "print(numpy.mean(data, axis=0).shape) # this is the average inflammation per day for all patients"
   ]
  },
  {
   "cell_type": "code",
   "execution_count": 26,
   "id": "fbd1c708",
   "metadata": {},
   "outputs": [
    {
     "name": "stdout",
     "output_type": "stream",
     "text": [
      "[5.45  5.425 6.1   5.9   5.55  6.225 5.975 6.65  6.625 6.525 6.775 5.8\n",
      " 6.225 5.75  5.225 6.3   6.55  5.7   5.85  6.55  5.775 5.825 6.175 6.1\n",
      " 5.8   6.425 6.05  6.025 6.175 6.55  6.175 6.35  6.725 6.125 7.075 5.725\n",
      " 5.925 6.15  6.075 5.75  5.975 5.725 6.3   5.9   6.75  5.925 7.225 6.15\n",
      " 5.95  6.275 5.7   6.1   6.825 5.975 6.725 5.7   6.25  6.4   7.05  5.9  ]\n"
     ]
    }
   ],
   "source": [
    "# if we average across axis 1 (columns in our 2D example), we get\n",
    "print(numpy.mean(data, axis=1))"
   ]
  },
  {
   "cell_type": "code",
   "execution_count": 27,
   "id": "cba07815",
   "metadata": {},
   "outputs": [
    {
     "name": "stdout",
     "output_type": "stream",
     "text": [
      "first three characters: oxy\n",
      "last three characters: gen\n"
     ]
    }
   ],
   "source": [
    "# A section of an array is called a slice\n",
    "## We can take slices of character strings as well\n",
    "\n",
    "element = 'oxygen'\n",
    "print('first three characters:', element[0:3])\n",
    "print('last three characters:', element[3:6])"
   ]
  },
  {
   "cell_type": "markdown",
   "id": "3275c588",
   "metadata": {},
   "source": [
    "#### Problem solving  <a class=\"anchor\" id=\"problem2\"></a>"
   ]
  },
  {
   "cell_type": "code",
   "execution_count": 28,
   "id": "f6aef37b",
   "metadata": {},
   "outputs": [
    {
     "name": "stdout",
     "output_type": "stream",
     "text": [
      "element[:4] oxyg\n",
      "element[4:] en\n",
      "element[:] oxygen\n"
     ]
    }
   ],
   "source": [
    "## What is the value of element[:4]? What about element[4:]? Or element[:]?\n",
    "print('element[:4]', element[:4])\n",
    "print('element[4:]', element[4:])\n",
    "print('element[:]', element[:])"
   ]
  },
  {
   "cell_type": "code",
   "execution_count": 29,
   "id": "12951c7d",
   "metadata": {},
   "outputs": [
    {
     "name": "stdout",
     "output_type": "stream",
     "text": [
      "element[-1] n\n",
      "element[-2] e\n"
     ]
    }
   ],
   "source": [
    "## What is element[-1]? What is element[-2]?\n",
    "print('element[-1]', element[-1])\n",
    "print('element[-2]', element[-2])"
   ]
  },
  {
   "cell_type": "code",
   "execution_count": 30,
   "id": "07eb2249",
   "metadata": {},
   "outputs": [
    {
     "name": "stdout",
     "output_type": "stream",
     "text": [
      "element[1:-1] xyge\n"
     ]
    }
   ],
   "source": [
    "## Given those answers, explain what element[1:-1] does\n",
    "print('element[1:-1]', element[1:-1])"
   ]
  },
  {
   "cell_type": "code",
   "execution_count": 31,
   "id": "32823241",
   "metadata": {},
   "outputs": [
    {
     "name": "stdout",
     "output_type": "stream",
     "text": [
      "element[-3] try\n",
      "element[-3] one\n",
      "element[-3] hi\n"
     ]
    }
   ],
   "source": [
    "## How can we rewrite the slice for getting the last three characters of element,\n",
    "## so that it works even if we assign a different string to element? \n",
    "## Test your solution with the following strings: carpentry, clone, hi\n",
    "\n",
    "element = 'carpentry'\n",
    "print('element[-3]', element[-3:])\n",
    "\n",
    "element = 'clone'\n",
    "print('element[-3]', element[-3:])\n",
    "\n",
    "element = 'hi'\n",
    "print('element[-3]', element[-3:])"
   ]
  },
  {
   "cell_type": "code",
   "execution_count": 32,
   "id": "334fbb7f",
   "metadata": {},
   "outputs": [
    {
     "name": "stdout",
     "output_type": "stream",
     "text": [
      "[]\n",
      "[]\n",
      "shape (0, 0)\n",
      "shape (0, 40)\n",
      "type float64\n",
      "type float64\n"
     ]
    }
   ],
   "source": [
    "## The expression element[3:3] produces an empty string, i.e., a string that contains no characters\n",
    "## If data holds our array of patient data, what does data[3:3, 4:4] produce? \n",
    "## What about data[3:3, :]?\n",
    "\n",
    "print(data[3:3, 4:4])\n",
    "print(data[3:3, :])\n",
    "\n",
    "print(\"shape\", data[3:3, 4:4].shape)\n",
    "print(\"shape\", data[3:3, :].shape)\n",
    "\n",
    "print(\"type\", data[3:3, 4:4].dtype)\n",
    "print(\"type\", data[3:3, :].dtype)"
   ]
  },
  {
   "cell_type": "code",
   "execution_count": 33,
   "id": "25b6bec3",
   "metadata": {},
   "outputs": [
    {
     "name": "stdout",
     "output_type": "stream",
     "text": [
      "A = \n",
      "[[1 2 3]\n",
      " [4 5 6]\n",
      " [7 8 9]]\n",
      "B = \n",
      "[[1 2 3 1 2 3]\n",
      " [4 5 6 4 5 6]\n",
      " [7 8 9 7 8 9]]\n",
      "C = \n",
      "[[1 2 3]\n",
      " [4 5 6]\n",
      " [7 8 9]\n",
      " [1 2 3]\n",
      " [4 5 6]\n",
      " [7 8 9]]\n"
     ]
    }
   ],
   "source": [
    "## Arrays can be concatenated and stacked on top of one another\n",
    "## using NumPy’s vstack and hstack functions for vertical and horizontal stacking\n",
    "\n",
    "A = numpy.array([[1,2,3], [4,5,6], [7, 8, 9]])\n",
    "print('A = ')\n",
    "print(A)\n",
    "\n",
    "B = numpy.hstack([A, A])\n",
    "print('B = ')\n",
    "print(B)\n",
    "\n",
    "C = numpy.vstack([A, A])\n",
    "print('C = ')\n",
    "print(C)"
   ]
  },
  {
   "cell_type": "markdown",
   "id": "3492fe98",
   "metadata": {},
   "source": [
    "#### Practice <a class=\"anchor\" id=\"practice1\"></a>\n",
    "\n",
    "Write some additional code that slices the first and last columns of A\n",
    "and stack them into a 3x2 array"
   ]
  },
  {
   "cell_type": "code",
   "execution_count": 34,
   "id": "355b695e",
   "metadata": {},
   "outputs": [],
   "source": [
    "## Practice here (through the rest of questions for section)\n",
    "\n",
    "##\n",
    "##\n",
    "##\n",
    "##\n",
    "##"
   ]
  },
  {
   "cell_type": "code",
   "execution_count": 35,
   "id": "982faef1",
   "metadata": {},
   "outputs": [
    {
     "name": "stdout",
     "output_type": "stream",
     "text": [
      "A = \n",
      "[[1 2 3]\n",
      " [4 5 6]\n",
      " [7 8 9]]\n",
      "D1 = \n",
      "[[1 3]\n",
      " [4 6]\n",
      " [7 9]]\n",
      "D2 = \n",
      "[[1 3]\n",
      " [4 6]\n",
      " [7 9]]\n"
     ]
    }
   ],
   "source": [
    "## Solution\n",
    "\n",
    "A = numpy.array([[1,2,3], [4,5,6], [7, 8, 9]])\n",
    "print('A = ')\n",
    "print(A)\n",
    "\n",
    "D1 = numpy.hstack((A[:, :1], A[:, -1:]))\n",
    "print('D1 = ')\n",
    "print(D1)\n",
    "\n",
    "D2 = numpy.delete(A, 1, 1)\n",
    "print('D2 = ')\n",
    "print(D2)"
   ]
  },
  {
   "cell_type": "code",
   "execution_count": 36,
   "id": "7512b69b",
   "metadata": {},
   "outputs": [
    {
     "name": "stdout",
     "output_type": "stream",
     "text": [
      "[0. 0. 2. 0. 4. 2. 2.]\n"
     ]
    }
   ],
   "source": [
    "## The patient data is longitudinal in that each row represents \n",
    "## a series of observations relating to one individual\n",
    "## This means that the change in inflammation over time is meaningful \n",
    "\n",
    "## Calculate changes in the data contained in an array with NumPy\n",
    "## The numpy.diff() function takes an array and \n",
    "## returns the differences between two successive values\n",
    "\n",
    "## use it to examine the changes each day across \n",
    "## the first week of patient 3 from our inflammation dataset\n",
    "\n",
    "patient3_week1 = data[3, :7]\n",
    "print(patient3_week1)"
   ]
  },
  {
   "cell_type": "code",
   "execution_count": 37,
   "id": "395ba711",
   "metadata": {},
   "outputs": [
    {
     "data": {
      "text/plain": [
       "array([ 0.,  2., -2.,  4., -2.,  0.])"
      ]
     },
     "execution_count": 37,
     "metadata": {},
     "output_type": "execute_result"
    }
   ],
   "source": [
    "## returns the 6 difference values in a new array\n",
    "## the array of differences is shorter by one element (length 6)\n",
    "\n",
    "numpy.diff(patient3_week1)"
   ]
  },
  {
   "cell_type": "code",
   "execution_count": 38,
   "id": "2af1a286",
   "metadata": {},
   "outputs": [
    {
     "data": {
      "text/plain": [
       "array([[ 0.,  1.,  2., ...,  1., -3.,  0.],\n",
       "       [ 1.,  1., -1., ...,  0., -1.,  1.],\n",
       "       [ 1.,  0.,  2., ...,  0., -1.,  0.],\n",
       "       ...,\n",
       "       [ 1.,  0.,  0., ..., -1.,  0.,  0.],\n",
       "       [ 0.,  0.,  1., ..., -2.,  2., -2.],\n",
       "       [ 0.,  1., -1., ..., -2.,  0., -1.]])"
      ]
     },
     "execution_count": 38,
     "metadata": {},
     "output_type": "execute_result"
    }
   ],
   "source": [
    "## When calling numpy.diff with a multi-dimensional array\n",
    "## an axis argument may be passed to the function to \n",
    "## specify which axis to process\n",
    "\n",
    "## When applying numpy.diff to our 2D inflammation array data\n",
    "## which axis would we specify?\n",
    "numpy.diff(data, axis=1)"
   ]
  },
  {
   "cell_type": "code",
   "execution_count": 39,
   "id": "71a3d332",
   "metadata": {},
   "outputs": [],
   "source": [
    "## If the shape of an individual data file is (60, 40) (60 rows, 40 cols)\n",
    "## what would the shape of the array be after you run the diff() \n",
    "\n",
    "## 60, 39 \n",
    "## because there is one fewer difference between columns than \n",
    "## there are columns in the data"
   ]
  },
  {
   "cell_type": "code",
   "execution_count": 40,
   "id": "3fe36835",
   "metadata": {},
   "outputs": [
    {
     "data": {
      "text/plain": [
       "array([ 7., 12., 11., 10., 11., 13., 10.,  8., 10., 10.,  7.,  7., 13.,\n",
       "        7., 10., 10.,  8., 10.,  9., 10., 13.,  7., 12.,  9., 12., 11.,\n",
       "       10., 10.,  7., 10., 11., 10.,  8., 11., 12., 10.,  9., 10., 13.,\n",
       "       10.,  7.,  7., 10., 13., 12.,  8.,  8., 10., 10.,  9.,  8., 13.,\n",
       "       10.,  7., 10.,  8., 12., 10.,  7., 12.])"
      ]
     },
     "execution_count": 40,
     "metadata": {},
     "output_type": "execute_result"
    }
   ],
   "source": [
    "## How would you find the largest inflammation change per patient? \n",
    "## Does it matter if the change in inflammation is an increase or decrease?\n",
    "\n",
    "numpy.max(numpy.diff(data, axis=1), axis=1)"
   ]
  },
  {
   "cell_type": "code",
   "execution_count": 41,
   "id": "7a84246c",
   "metadata": {},
   "outputs": [
    {
     "data": {
      "text/plain": [
       "array([12., 14., 11., 13., 11., 13., 10., 12., 10., 10., 10., 12., 13.,\n",
       "       10., 11., 10., 12., 13.,  9., 10., 13.,  9., 12.,  9., 12., 11.,\n",
       "       10., 13.,  9., 13., 11., 11.,  8., 11., 12., 13.,  9., 10., 13.,\n",
       "       11., 11., 13., 11., 13., 13., 10.,  9., 10., 10.,  9.,  9., 13.,\n",
       "       10.,  9., 10., 11., 13., 10., 10., 12.])"
      ]
     },
     "execution_count": 41,
     "metadata": {},
     "output_type": "execute_result"
    }
   ],
   "source": [
    "numpy.max(numpy.absolute(numpy.diff(data, axis=1)), axis=1)"
   ]
  },
  {
   "cell_type": "markdown",
   "id": "ea6f7098",
   "metadata": {},
   "source": [
    "### Visualizing Tabular Data <a class=\"anchor\" id=\"visualize\"></a>\n",
    "https://swcarpentry.github.io/python-novice-inflammation/03-matplotlib/index.html\n",
    "\n",
    "* matplotlib is the de facto standard"
   ]
  },
  {
   "cell_type": "code",
   "execution_count": 42,
   "id": "4191fc28",
   "metadata": {},
   "outputs": [],
   "source": [
    "import numpy\n",
    "\n",
    "# loadtxt reads our data\n",
    "data = numpy.loadtxt(fname='data/inflammation-01.csv', delimiter=',')"
   ]
  },
  {
   "cell_type": "code",
   "execution_count": 43,
   "id": "3925ea79",
   "metadata": {},
   "outputs": [
    {
     "data": {
      "image/png": "[encoded data removed]",
      "text/plain": [
       "<Figure size 432x288 with 1 Axes>"
      ]
     },
     "metadata": {
      "needs_background": "light"
     },
     "output_type": "display_data"
    }
   ],
   "source": [
    "# import the pyplot module from matplotlib \n",
    "import matplotlib.pyplot\n",
    "\n",
    "# use two of its functions to create a heat map of our data\n",
    "image = matplotlib.pyplot.imshow(data)\n",
    "matplotlib.pyplot.show()\n",
    "\n",
    "# Each row corresponds to a patient in the clinical trial dataset\n",
    "# each column corresponds to a day in the dataset\n",
    "# number of inflammation flare-ups rises and falls over a 40-day period\n",
    "\n",
    "# Claims\n",
    "## patients take their medication once inflammation flare-ups begin\n",
    "## takes ~3 weeks for the medication to take effect for reducing flare-ups\n",
    "## flare-ups appear to drop to zero by the end of the clinical trial"
   ]
  },
  {
   "cell_type": "code",
   "execution_count": 44,
   "id": "df306499",
   "metadata": {},
   "outputs": [
    {
     "data": {
      "image/png": "[encoded data removed]",
      "text/plain": [
       "<Figure size 432x288 with 1 Axes>"
      ]
     },
     "metadata": {
      "needs_background": "light"
     },
     "output_type": "display_data"
    }
   ],
   "source": [
    "# average inflammation over time\n",
    "ave_inflammation = numpy.mean(data, axis=0)\n",
    "ave_plot = matplotlib.pyplot.plot(ave_inflammation)\n",
    "matplotlib.pyplot.show()\n",
    "\n",
    "# average inflammation per day across patients in variable ave_inflammation\n",
    "# asked matplotlib.pyplot to create and display a line graph of those values\n",
    "# The result is a reasonably linear rise and fall\n",
    "# in line with claim that the medication takes 3 weeks to take effect "
   ]
  },
  {
   "cell_type": "code",
   "execution_count": 45,
   "id": "0e19240c",
   "metadata": {},
   "outputs": [
    {
     "data": {
      "image/png": "[encoded data removed]",
      "text/plain": [
       "<Figure size 432x288 with 1 Axes>"
      ]
     },
     "metadata": {
      "needs_background": "light"
     },
     "output_type": "display_data"
    },
    {
     "data": {
      "image/png": "[encoded data removed]",
      "text/plain": [
       "<Figure size 432x288 with 1 Axes>"
      ]
     },
     "metadata": {
      "needs_background": "light"
     },
     "output_type": "display_data"
    }
   ],
   "source": [
    "# let’s have a look at two other statistics\n",
    "max_plot = matplotlib.pyplot.plot(numpy.max(data, axis=0))\n",
    "matplotlib.pyplot.show() # maximum value rises and falls linearly\n",
    "\n",
    "min_plot = matplotlib.pyplot.plot(numpy.min(data, axis=0))\n",
    "matplotlib.pyplot.show() # minimum seems to be a step function\n",
    "\n",
    "# Neither trend seems likely, so \n",
    "# either a mistake in our calculations or something is wrong with data\n",
    "# This insight would have been difficult without visualization tools"
   ]
  },
  {
   "cell_type": "code",
   "execution_count": 46,
   "id": "da871c0d",
   "metadata": {},
   "outputs": [
    {
     "data": {
      "image/png": "[encoded data removed]",
      "text/plain": [
       "<Figure size 720x216 with 3 Axes>"
      ]
     },
     "metadata": {
      "needs_background": "light"
     },
     "output_type": "display_data"
    }
   ],
   "source": [
    "# group similar plots in a single figure using subplots\n",
    "\n",
    "# the program tells the plotting library how large we want the figure \n",
    "# that we’re creating three subplots\n",
    "# what to draw for each one\n",
    "# and that we want a tight layout\n",
    "\n",
    "# function matplotlib.pyplot.figure() creates space to place all plots\n",
    "# parameter figsize tells Python how big to make this space\n",
    "fig = matplotlib.pyplot.figure(figsize=(10.0, 3.0))\n",
    "\n",
    "# Each subplot is placed into the figure using its add_subplot\n",
    "# Each subplot is stored in a different variable (axes1, axes2, axes3)\n",
    "# The add_subplot method takes 3 parameters\n",
    "# first denotes how many total rows of subplots there are\n",
    "# second parameter refers to the total number of subplot columns\n",
    "# final denotes which subplot variable (left-to-right, top-to-bottom)\n",
    "axes1 = fig.add_subplot(1, 3, 1)\n",
    "axes2 = fig.add_subplot(1, 3, 2)\n",
    "axes3 = fig.add_subplot(1, 3, 3)\n",
    "\n",
    "# the axes can be titled using the set_xlabel() command (or set_ylabel())\n",
    "axes1.set_ylabel('average')\n",
    "axes1.plot(numpy.mean(data, axis=0))\n",
    "\n",
    "axes2.set_ylabel('max')\n",
    "axes2.plot(numpy.max(data, axis=0))\n",
    "\n",
    "axes3.set_ylabel('min')\n",
    "axes3.plot(numpy.min(data, axis=0))\n",
    "\n",
    "fig.tight_layout()\n",
    "\n",
    "matplotlib.pyplot.savefig('inflammation.png') # stores as graphics file\n",
    "matplotlib.pyplot.show() # Here are our three plots side by side"
   ]
  },
  {
   "cell_type": "code",
   "execution_count": 47,
   "id": "47d14e1e",
   "metadata": {},
   "outputs": [],
   "source": [
    "# we use the import matplotlib.pyplot syntax to \n",
    "# import the pyplot module of matplotlib\n",
    "\n",
    "# shortcuts such as import matplotlib.pyplot as plt are frequently used\n",
    "# Importing pyplot this way means that after the initial import\n",
    "# rather than writing matplotlib.pyplot.plot(...)\n",
    "# write plt.plot(...)\n",
    "\n",
    "# Another common convention is to use the shortcut import numpy as np \n",
    "# when importing the NumPy library\n",
    "# We then can write np.loadtxt(...) instead of numpy.loadtxt(...)"
   ]
  },
  {
   "cell_type": "markdown",
   "id": "6661ce75",
   "metadata": {},
   "source": [
    "#### Problem solving  <a class=\"anchor\" id=\"problem3\"></a>"
   ]
  },
  {
   "cell_type": "code",
   "execution_count": 48,
   "id": "186d7ff2",
   "metadata": {},
   "outputs": [
    {
     "data": {
      "text/plain": [
       "(0.0, 6.0)"
      ]
     },
     "execution_count": 48,
     "metadata": {},
     "output_type": "execute_result"
    }
   ],
   "source": [
    "## Why do all of our plots stop short of the upper end of our graph?\n",
    "\n",
    "## matplotlib sets x and y axes limits to the min and max of the data \n",
    "## If we want to change this, we can use the set_ylim(min, max) method \n",
    "\n",
    "axes3.set_ylim(0,6)"
   ]
  },
  {
   "cell_type": "code",
   "execution_count": 49,
   "id": "d469aaae",
   "metadata": {},
   "outputs": [
    {
     "data": {
      "image/png": "[encoded data removed]",
      "text/plain": [
       "<Figure size 720x216 with 3 Axes>"
      ]
     },
     "metadata": {
      "needs_background": "light"
     },
     "output_type": "display_data"
    }
   ],
   "source": [
    "## Update your plotting code to set a more appropriate scale\n",
    "fig = matplotlib.pyplot.figure(figsize=(10.0, 3.0))\n",
    "\n",
    "axes1 = fig.add_subplot(1, 3, 1)\n",
    "axes2 = fig.add_subplot(1, 3, 2)\n",
    "axes3 = fig.add_subplot(1, 3, 3)\n",
    "\n",
    "axes1.set_ylabel('average')\n",
    "axes1.set_ylim(0,20)\n",
    "axes1.plot(numpy.mean(data, axis=0))\n",
    "\n",
    "axes2.set_ylabel('max')\n",
    "axes2.set_ylim(0,20)\n",
    "axes2.plot(numpy.max(data, axis=0))\n",
    "\n",
    "axes3.set_ylabel('min')\n",
    "axes3.set_ylim(0,20)\n",
    "axes3.plot(numpy.min(data, axis=0))\n",
    "\n",
    "fig.tight_layout()\n",
    "matplotlib.pyplot.show()"
   ]
  },
  {
   "cell_type": "code",
   "execution_count": 50,
   "id": "ba951dc6",
   "metadata": {},
   "outputs": [
    {
     "data": {
      "text/plain": [
       "(0.0, 5.5)"
      ]
     },
     "execution_count": 50,
     "metadata": {},
     "output_type": "execute_result"
    }
   ],
   "source": [
    "## A more automated approach\n",
    "min_data = numpy.min(data, axis=0)\n",
    "axes3.set_ylabel('min')\n",
    "axes3.plot(min_data)\n",
    "axes3.set_ylim(numpy.min(min_data), numpy.max(min_data) * 1.1)"
   ]
  },
  {
   "cell_type": "code",
   "execution_count": 51,
   "id": "9fdd6689",
   "metadata": {},
   "outputs": [
    {
     "data": {
      "image/png": "[encoded data removed]",
      "text/plain": [
       "<Figure size 720x216 with 3 Axes>"
      ]
     },
     "metadata": {
      "needs_background": "light"
     },
     "output_type": "display_data"
    }
   ],
   "source": [
    "## In the center and right subplots above\n",
    "## we expect all lines to look like step functions because \n",
    "## non-integer value are not realistic for the min and max values\n",
    "\n",
    "## the lines are not always vertical or horizontal\n",
    "## the step function in the subplot on the right looks slanted\n",
    "## Why is this?\n",
    "\n",
    "## Because matplotlib interpolates (draws a straight line) between points\n",
    "## One way to do avoid this is to use the Matplotlib drawstyle option\n",
    "\n",
    "import numpy\n",
    "import matplotlib.pyplot\n",
    "\n",
    "data = numpy.loadtxt(fname='data/inflammation-01.csv', delimiter=',')\n",
    "\n",
    "fig = matplotlib.pyplot.figure(figsize=(10.0, 3.0))\n",
    "\n",
    "axes1 = fig.add_subplot(1, 3, 1)\n",
    "axes2 = fig.add_subplot(1, 3, 2)\n",
    "axes3 = fig.add_subplot(1, 3, 3)\n",
    "\n",
    "axes1.set_ylabel('average')\n",
    "axes1.plot(numpy.mean(data, axis=0), drawstyle='steps-mid')\n",
    "\n",
    "axes2.set_ylabel('max')\n",
    "axes2.plot(numpy.max(data, axis=0), drawstyle='steps-mid')\n",
    "\n",
    "axes3.set_ylabel('min')\n",
    "axes3.plot(numpy.min(data, axis=0), drawstyle='steps-mid')\n",
    "\n",
    "fig.tight_layout()\n",
    "\n",
    "matplotlib.pyplot.show()"
   ]
  },
  {
   "cell_type": "code",
   "execution_count": 52,
   "id": "9c5fa4a0",
   "metadata": {},
   "outputs": [
    {
     "data": {
      "image/png": "[encoded data removed]",
      "text/plain": [
       "<Figure size 432x288 with 1 Axes>"
      ]
     },
     "metadata": {
      "needs_background": "light"
     },
     "output_type": "display_data"
    }
   ],
   "source": [
    "## Create a plot showing the standard deviation (numpy.std) \n",
    "## of the inflammation data for each day across all patients\n",
    "\n",
    "std_plot = matplotlib.pyplot.plot(numpy.std(data, axis=0))\n",
    "matplotlib.pyplot.show()"
   ]
  },
  {
   "cell_type": "code",
   "execution_count": 53,
   "id": "555d6900",
   "metadata": {},
   "outputs": [
    {
     "data": {
      "image/png": "[encoded data removed]",
      "text/plain": [
       "<Figure size 720x216 with 3 Axes>"
      ]
     },
     "metadata": {
      "needs_background": "light"
     },
     "output_type": "display_data"
    }
   ],
   "source": [
    "## Modify the program to display the three plots on top of one another \n",
    "\n",
    "fig = matplotlib.pyplot.figure(figsize=(10.0, 3.0))\n",
    "\n",
    "axes1 = fig.add_subplot(3, 1, 1) # reverse here\n",
    "axes2 = fig.add_subplot(3, 1, 2)\n",
    "axes3 = fig.add_subplot(3, 1, 3)\n",
    "\n",
    "axes1.set_ylabel('average')\n",
    "axes1.plot(numpy.mean(data, axis=0), drawstyle='steps-mid')\n",
    "\n",
    "axes2.set_ylabel('max')\n",
    "axes2.plot(numpy.max(data, axis=0), drawstyle='steps-mid')\n",
    "\n",
    "axes3.set_ylabel('min')\n",
    "axes3.plot(numpy.min(data, axis=0), drawstyle='steps-mid')\n",
    "\n",
    "fig.tight_layout()\n",
    "\n",
    "matplotlib.pyplot.show()"
   ]
  },
  {
   "cell_type": "markdown",
   "id": "24e9e0a7",
   "metadata": {},
   "source": [
    "### Storing Multiple Values in Lists <a class=\"anchor\" id=\"lists\"></a>\n",
    "https://swcarpentry.github.io/python-novice-inflammation/04-lists/index.html\n",
    "\n",
    "* Array (mutable): Ordered sequence of homogenous elements (characters, integers, or floating type numbers)\n",
    "* List (mutable): Ordered sequence of heterogeneous elements\n",
    "* Can change the values in a list (mutable), but cannot change individual characters in a string (immutable)\n",
    "* Python stores a list in memory, and can use multiple names to refer to the same list"
   ]
  },
  {
   "cell_type": "code",
   "execution_count": 54,
   "id": "e0452743",
   "metadata": {},
   "outputs": [
    {
     "name": "stdout",
     "output_type": "stream",
     "text": [
      "odds are: [1, 3, 5, 7]\n"
     ]
    }
   ],
   "source": [
    "odds = [1, 3, 5, 7]\n",
    "print('odds are:', odds)"
   ]
  },
  {
   "cell_type": "code",
   "execution_count": 55,
   "id": "f535dbcb",
   "metadata": {},
   "outputs": [
    {
     "name": "stdout",
     "output_type": "stream",
     "text": [
      "first element: 1\n",
      "last element: 7\n",
      "\"-1\" element: 7\n"
     ]
    }
   ],
   "source": [
    "# can access elements of a list using indices: numbered positions of elements in the list\n",
    "print('first element:', odds[0])\n",
    "print('last element:', odds[3])\n",
    "print('\"-1\" element:', odds[-1])"
   ]
  },
  {
   "cell_type": "code",
   "execution_count": 56,
   "id": "9d546517",
   "metadata": {},
   "outputs": [
    {
     "name": "stdout",
     "output_type": "stream",
     "text": [
      "names is originally: ['Curie', 'Darwing', 'Turing']\n",
      "final value of names: ['Curie', 'Darwin', 'Turing']\n"
     ]
    }
   ],
   "source": [
    "names = ['Curie', 'Darwing', 'Turing']  # typo in Darwin's name\n",
    "print('names is originally:', names)\n",
    "names[1] = 'Darwin'  # correct the name\n",
    "print('final value of names:', names)"
   ]
  },
  {
   "cell_type": "code",
   "execution_count": 57,
   "id": "792034ce",
   "metadata": {},
   "outputs": [
    {
     "ename": "TypeError",
     "evalue": "'str' object does not support item assignment",
     "output_type": "error",
     "traceback": [
      "\u001b[0;31m---------------------------------------------------------------------------\u001b[0m",
      "\u001b[0;31mTypeError\u001b[0m                                 Traceback (most recent call last)",
      "\u001b[0;32m<ipython-input-57-95e417bf1194>\u001b[0m in \u001b[0;36m<module>\u001b[0;34m\u001b[0m\n\u001b[1;32m      1\u001b[0m \u001b[0;31m# Example of strings being immutable\u001b[0m\u001b[0;34m\u001b[0m\u001b[0;34m\u001b[0m\u001b[0;34m\u001b[0m\u001b[0m\n\u001b[1;32m      2\u001b[0m \u001b[0mname\u001b[0m \u001b[0;34m=\u001b[0m \u001b[0;34m'Darwin'\u001b[0m\u001b[0;34m\u001b[0m\u001b[0;34m\u001b[0m\u001b[0m\n\u001b[0;32m----> 3\u001b[0;31m \u001b[0mname\u001b[0m\u001b[0;34m[\u001b[0m\u001b[0;36m0\u001b[0m\u001b[0;34m]\u001b[0m \u001b[0;34m=\u001b[0m \u001b[0;34m'd'\u001b[0m\u001b[0;34m\u001b[0m\u001b[0;34m\u001b[0m\u001b[0m\n\u001b[0m",
      "\u001b[0;31mTypeError\u001b[0m: 'str' object does not support item assignment"
     ]
    }
   ],
   "source": [
    "# Example of strings being immutable\n",
    "name = 'Darwin'\n",
    "name[0] = 'd'"
   ]
  },
  {
   "cell_type": "code",
   "execution_count": 58,
   "id": "b1aa63d3",
   "metadata": {},
   "outputs": [
    {
     "name": "stdout",
     "output_type": "stream",
     "text": [
      "Ingredients in my salsa: ['hot peppers', 'onions', 'cilantro', 'tomatoes']\n"
     ]
    }
   ],
   "source": [
    "salsa = ['peppers', 'onions', 'cilantro', 'tomatoes']\n",
    "my_salsa = salsa # my_salsa and salsa point to the *same* list data in memory\n",
    "salsa[0] = 'hot peppers'\n",
    "print('Ingredients in my salsa:', my_salsa)"
   ]
  },
  {
   "cell_type": "code",
   "execution_count": 59,
   "id": "b9933faa",
   "metadata": {},
   "outputs": [
    {
     "name": "stdout",
     "output_type": "stream",
     "text": [
      "Ingredients in my salsa: ['peppers', 'onions', 'cilantro', 'tomatoes']\n"
     ]
    }
   ],
   "source": [
    "# Example of lists being mutable \n",
    "salsa = ['peppers', 'onions', 'cilantro', 'tomatoes']\n",
    "my_salsa = list(salsa) # makes a *copy* of the list\n",
    "salsa[0] = 'hot peppers'\n",
    "print('Ingredients in my salsa:', my_salsa)"
   ]
  },
  {
   "cell_type": "code",
   "execution_count": 60,
   "id": "3e545bd6",
   "metadata": {},
   "outputs": [],
   "source": [
    "# A list can contain other lists\n",
    "x = [['pepper', 'zucchini', 'onion'],\n",
    "     ['cabbage', 'lettuce', 'garlic'],\n",
    "     ['apple', 'pear', 'banana']]"
   ]
  },
  {
   "cell_type": "code",
   "execution_count": 61,
   "id": "75ccf52d",
   "metadata": {},
   "outputs": [
    {
     "name": "stdout",
     "output_type": "stream",
     "text": [
      "[['pepper', 'zucchini', 'onion']]\n"
     ]
    }
   ],
   "source": [
    "print([x[0]])"
   ]
  },
  {
   "cell_type": "code",
   "execution_count": 62,
   "id": "a7fcc812",
   "metadata": {},
   "outputs": [
    {
     "name": "stdout",
     "output_type": "stream",
     "text": [
      "pepper\n"
     ]
    }
   ],
   "source": [
    "print(x[0][0])"
   ]
  },
  {
   "cell_type": "code",
   "execution_count": 63,
   "id": "85ec8012",
   "metadata": {},
   "outputs": [],
   "source": [
    "# Elements of different types\n",
    "sample_ages = [10, 12.5, 'Unknown']"
   ]
  },
  {
   "cell_type": "code",
   "execution_count": 64,
   "id": "44f3202e",
   "metadata": {},
   "outputs": [
    {
     "name": "stdout",
     "output_type": "stream",
     "text": [
      "odds after adding a value: [1, 3, 5, 7, 11]\n",
      "odds after removing the first element: [3, 5, 7, 11]\n",
      "removed_element: 1\n",
      "odds after reversing: [11, 7, 5, 3]\n"
     ]
    }
   ],
   "source": [
    "# Changing contents of a list\n",
    "odds.append(11)\n",
    "print('odds after adding a value:', odds)\n",
    "\n",
    "removed_element = odds.pop(0)\n",
    "print('odds after removing the first element:', odds)\n",
    "print('removed_element:', removed_element)\n",
    "\n",
    "odds.reverse()\n",
    "print('odds after reversing:', odds)"
   ]
  },
  {
   "cell_type": "code",
   "execution_count": 65,
   "id": "e4023ce4",
   "metadata": {},
   "outputs": [
    {
     "name": "stdout",
     "output_type": "stream",
     "text": [
      "primes: [1, 3, 5, 7, 2]\n",
      "odds: [1, 3, 5, 7, 2]\n"
     ]
    }
   ],
   "source": [
    "odds = [1, 3, 5, 7]\n",
    "primes = odds\n",
    "primes.append(2)\n",
    "print('primes:', primes)\n",
    "print('odds:', odds)"
   ]
  },
  {
   "cell_type": "code",
   "execution_count": 66,
   "id": "47585bf3",
   "metadata": {},
   "outputs": [
    {
     "name": "stdout",
     "output_type": "stream",
     "text": [
      "primes: [1, 3, 5, 7, 2]\n",
      "odds: [1, 3, 5, 7]\n",
      "group: Drosophila\n",
      "species: melanogaster\n",
      "autosomes: ['2', '3', '4']\n",
      "last: 4\n"
     ]
    }
   ],
   "source": [
    "# Slicing a list\n",
    "odds = [1, 3, 5, 7]\n",
    "primes = list(odds)\n",
    "primes.append(2)\n",
    "print('primes:', primes)\n",
    "print('odds:', odds)\n",
    "\n",
    "binomial_name = 'Drosophila melanogaster'\n",
    "group = binomial_name[0:10]\n",
    "print('group:', group)\n",
    "\n",
    "species = binomial_name[11:23]\n",
    "print('species:', species)\n",
    "\n",
    "chromosomes = ['X', 'Y', '2', '3', '4']\n",
    "autosomes = chromosomes[2:5]\n",
    "print('autosomes:', autosomes)\n",
    "\n",
    "last = chromosomes[-1]\n",
    "print('last:', last)"
   ]
  },
  {
   "cell_type": "markdown",
   "id": "018b667b",
   "metadata": {},
   "source": [
    "#### Problem solving  <a class=\"anchor\" id=\"problem4\"></a>"
   ]
  },
  {
   "cell_type": "code",
   "execution_count": 68,
   "id": "c6c37d4a",
   "metadata": {},
   "outputs": [
    {
     "name": "stdout",
     "output_type": "stream",
     "text": [
      "string: 2013\n",
      "list: [['chlorine', 'Cl'], ['bromine', 'Br'], ['iodine', 'I'], ['astatine', 'At']]\n"
     ]
    }
   ],
   "source": [
    "## Use slicing to access only the last four characters of a string or entries of a list\n",
    "string_for_slicing = 'Observation date: 02-Feb-2013'\n",
    "list_for_slicing = [['fluorine', 'F'],\n",
    "                    ['chlorine', 'Cl'],\n",
    "                    ['bromine', 'Br'],\n",
    "                    ['iodine', 'I'],\n",
    "                    ['astatine', 'At']]\n",
    "\n",
    "string = string_for_slicing[-4:]\n",
    "print('string:', string)\n",
    "\n",
    "list = list_for_slicing[-4:]\n",
    "print('list:', list)"
   ]
  },
  {
   "cell_type": "code",
   "execution_count": 75,
   "id": "6118b6fb",
   "metadata": {},
   "outputs": [
    {
     "name": "stdout",
     "output_type": "stream",
     "text": [
      "string: I notpssgre ntesae\n",
      "string: I notpssgre ntesae\n"
     ]
    }
   ],
   "source": [
    "## Use slicing to output every other character in string\n",
    "beatles = \"In an octopus's garden in the shade\"\n",
    "\n",
    "string = beatles[0:35:2]\n",
    "print('string:', string)\n",
    "\n",
    "string = beatles[0::2]\n",
    "print('string:', string)"
   ]
  },
  {
   "cell_type": "code",
   "execution_count": 76,
   "id": "eaa94294",
   "metadata": {},
   "outputs": [
    {
     "name": "stdout",
     "output_type": "stream",
     "text": [
      "[2, 4, 6, 8, 10, 2, 4, 6, 8, 10]\n"
     ]
    }
   ],
   "source": [
    "## What does the multiplication operator * do on lists?\n",
    "counts = [2, 4, 6, 8, 10]\n",
    "repeats = counts * 2\n",
    "print(repeats)"
   ]
  },
  {
   "cell_type": "markdown",
   "id": "2538e42d",
   "metadata": {},
   "source": [
    "### Repeating Actions with Loops <a class=\"anchor\" id=\"loops\"></a>\n",
    "https://swcarpentry.github.io/python-novice-inflammation/05-loop/index.html\n",
    "* x\n"
   ]
  },
  {
   "cell_type": "markdown",
   "id": "729838f3",
   "metadata": {},
   "source": [
    "#### Problem solving  <a class=\"anchor\" id=\"problem5\"></a>"
   ]
  },
  {
   "cell_type": "code",
   "execution_count": null,
   "id": "27a4b65f",
   "metadata": {},
   "outputs": [],
   "source": []
  }
 ],
 "metadata": {
  "kernelspec": {
   "display_name": "Python 3",
   "language": "python",
   "name": "python3"
  },
  "language_info": {
   "codemirror_mode": {
    "name": "ipython",
    "version": 3
   },
   "file_extension": ".py",
   "mimetype": "text/x-python",
   "name": "python",
   "nbconvert_exporter": "python",
   "pygments_lexer": "ipython3",
   "version": "3.8.8"
  }
 },
 "nbformat": 4,
 "nbformat_minor": 5
}
