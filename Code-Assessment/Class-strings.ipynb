{
 "cells": [
  {
   "cell_type": "code",
   "execution_count": 1,
   "id": "a3651f70",
   "metadata": {},
   "outputs": [
    {
     "name": "stdout",
     "output_type": "stream",
     "text": [
      "onetwo\n",
      "oe\n",
      "eno\n",
      "one\n"
     ]
    }
   ],
   "source": [
    "# Write a class that can store and process strings\n",
    "# class with methods that can be called (below are class variables)\n",
    "\n",
    "class Strings: \n",
    "    \n",
    "    def __init__(self, string1, string2): \n",
    "        \n",
    "        text_file = open(\"string.txt\", \"wt\") # don't write as string.txt\n",
    "        \n",
    "        self.string1 = string1\n",
    "        self.string2 = string1 + string2 # append new string to existing string\n",
    "        self.string3 = string1.replace('n', '') # removing a substring\n",
    "        self.string4 = string1[::-1] # mirroring a string\n",
    "        self.string5 = text_file.write(string1) # save/load string content to or from file\n",
    "        \n",
    "        text_file.close()\n",
    "        \n",
    "test = Strings(\"one\", \"two\")\n",
    "\n",
    "print(test.string2) \n",
    "print(test.string3) \n",
    "print(test.string4) \n",
    "\n",
    "test.string5\n",
    "f = open(\"string.txt\", 'r')\n",
    "f_contents = f.read()\n",
    "print(f_contents)"
   ]
  },
  {
   "cell_type": "code",
   "execution_count": 2,
   "id": "01cefc92",
   "metadata": {},
   "outputs": [
    {
     "name": "stdout",
     "output_type": "stream",
     "text": [
      "['one', 'noe', 'neo', 'oen', 'eon', 'eno']\n"
     ]
    }
   ],
   "source": [
    "def anagram(string1): # Child class that creates all anagrams (note: currently set up as function, not child class)\n",
    "    if len(string1) <=1: \n",
    "        return string1\n",
    "    else:\n",
    "        tmp = []\n",
    "        for perm in anagram(string1[1:]):\n",
    "            for i in range(len(string1)):\n",
    "                tmp.append(perm[:i] + string1[0:1] + perm[i:])\n",
    "    return tmp\n",
    "        \n",
    "print(anagram(\"one\"))"
   ]
  },
  {
   "cell_type": "code",
   "execution_count": 3,
   "id": "f8884dd2",
   "metadata": {},
   "outputs": [
    {
     "name": "stdout",
     "output_type": "stream",
     "text": [
      "False\n",
      "True\n",
      "mom\n"
     ]
    }
   ],
   "source": [
    "def palindrome(string1): # Child class only stores palindromes (note: currently set up as function, not child class)\n",
    "    string = string1.lower().replace(' ', '')\n",
    "    reversed = ''\n",
    "    for i in range(len(string), 0, -1):\n",
    "        reversed += string[i-1]\n",
    "        if string == reversed:\n",
    "            text_file = open(\"palindrome.txt\", \"wt\") \n",
    "            text_file.write(string)\n",
    "            text_file.close()\n",
    "    return string == reversed\n",
    "\n",
    "print(palindrome(\"one\"))    \n",
    "\n",
    "print(palindrome(\"mom\"))\n",
    "f = open(\"palindrome.txt\", 'r')\n",
    "f_contents = f.read()\n",
    "print(f_contents) "
   ]
  }
 ],
 "metadata": {
  "kernelspec": {
   "display_name": "Python 3",
   "language": "python",
   "name": "python3"
  },
  "language_info": {
   "codemirror_mode": {
    "name": "ipython",
    "version": 3
   },
   "file_extension": ".py",
   "mimetype": "text/x-python",
   "name": "python",
   "nbconvert_exporter": "python",
   "pygments_lexer": "ipython3",
   "version": "3.8.8"
  }
 },
 "nbformat": 4,
 "nbformat_minor": 5
}
