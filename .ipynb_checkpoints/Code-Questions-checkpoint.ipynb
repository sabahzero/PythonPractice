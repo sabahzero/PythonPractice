{
 "cells": [
  {
   "cell_type": "markdown",
   "id": "57821be2",
   "metadata": {},
   "source": [
    "[A]\n",
    "\n",
    "1. What's the difference between packages: numpy vs pandas\n",
    "2. [i]Packages to try: biopython, seaborn\n",
    "2. [ii]How would one read-in a SAM file\n",
    "3. How would you put together a dispersion calculation\n",
    "4. How would you edit functions for your own parameters"
   ]
  },
  {
   "cell_type": "code",
   "execution_count": 1,
   "id": "35ee3fd1",
   "metadata": {},
   "outputs": [
    {
     "data": {
      "text/html": [
       "<div>\n",
       "<style scoped>\n",
       "    .dataframe tbody tr th:only-of-type {\n",
       "        vertical-align: middle;\n",
       "    }\n",
       "\n",
       "    .dataframe tbody tr th {\n",
       "        vertical-align: top;\n",
       "    }\n",
       "\n",
       "    .dataframe thead th {\n",
       "        text-align: right;\n",
       "    }\n",
       "</style>\n",
       "<table border=\"1\" class=\"dataframe\">\n",
       "  <thead>\n",
       "    <tr style=\"text-align: right;\">\n",
       "      <th></th>\n",
       "      <th>0</th>\n",
       "      <th>0.1</th>\n",
       "      <th>1</th>\n",
       "      <th>3</th>\n",
       "      <th>1.1</th>\n",
       "      <th>2</th>\n",
       "      <th>4</th>\n",
       "      <th>7</th>\n",
       "      <th>8</th>\n",
       "      <th>3.1</th>\n",
       "      <th>...</th>\n",
       "      <th>4.3</th>\n",
       "      <th>4.4</th>\n",
       "      <th>5.1</th>\n",
       "      <th>7.6</th>\n",
       "      <th>3.4</th>\n",
       "      <th>4.5</th>\n",
       "      <th>2.1</th>\n",
       "      <th>3.5</th>\n",
       "      <th>0.2</th>\n",
       "      <th>0.3</th>\n",
       "    </tr>\n",
       "  </thead>\n",
       "  <tbody>\n",
       "    <tr>\n",
       "      <th>0</th>\n",
       "      <td>0</td>\n",
       "      <td>1</td>\n",
       "      <td>2</td>\n",
       "      <td>1</td>\n",
       "      <td>2</td>\n",
       "      <td>1</td>\n",
       "      <td>3</td>\n",
       "      <td>2</td>\n",
       "      <td>2</td>\n",
       "      <td>6</td>\n",
       "      <td>...</td>\n",
       "      <td>3</td>\n",
       "      <td>5</td>\n",
       "      <td>4</td>\n",
       "      <td>4</td>\n",
       "      <td>5</td>\n",
       "      <td>5</td>\n",
       "      <td>1</td>\n",
       "      <td>1</td>\n",
       "      <td>0</td>\n",
       "      <td>1</td>\n",
       "    </tr>\n",
       "    <tr>\n",
       "      <th>1</th>\n",
       "      <td>0</td>\n",
       "      <td>1</td>\n",
       "      <td>1</td>\n",
       "      <td>3</td>\n",
       "      <td>3</td>\n",
       "      <td>2</td>\n",
       "      <td>6</td>\n",
       "      <td>2</td>\n",
       "      <td>5</td>\n",
       "      <td>9</td>\n",
       "      <td>...</td>\n",
       "      <td>10</td>\n",
       "      <td>5</td>\n",
       "      <td>4</td>\n",
       "      <td>2</td>\n",
       "      <td>2</td>\n",
       "      <td>3</td>\n",
       "      <td>2</td>\n",
       "      <td>2</td>\n",
       "      <td>1</td>\n",
       "      <td>1</td>\n",
       "    </tr>\n",
       "    <tr>\n",
       "      <th>2</th>\n",
       "      <td>0</td>\n",
       "      <td>0</td>\n",
       "      <td>2</td>\n",
       "      <td>0</td>\n",
       "      <td>4</td>\n",
       "      <td>2</td>\n",
       "      <td>2</td>\n",
       "      <td>1</td>\n",
       "      <td>6</td>\n",
       "      <td>7</td>\n",
       "      <td>...</td>\n",
       "      <td>3</td>\n",
       "      <td>5</td>\n",
       "      <td>6</td>\n",
       "      <td>3</td>\n",
       "      <td>3</td>\n",
       "      <td>4</td>\n",
       "      <td>2</td>\n",
       "      <td>3</td>\n",
       "      <td>2</td>\n",
       "      <td>1</td>\n",
       "    </tr>\n",
       "    <tr>\n",
       "      <th>3</th>\n",
       "      <td>0</td>\n",
       "      <td>1</td>\n",
       "      <td>1</td>\n",
       "      <td>3</td>\n",
       "      <td>3</td>\n",
       "      <td>1</td>\n",
       "      <td>3</td>\n",
       "      <td>5</td>\n",
       "      <td>2</td>\n",
       "      <td>4</td>\n",
       "      <td>...</td>\n",
       "      <td>9</td>\n",
       "      <td>6</td>\n",
       "      <td>3</td>\n",
       "      <td>2</td>\n",
       "      <td>2</td>\n",
       "      <td>4</td>\n",
       "      <td>2</td>\n",
       "      <td>0</td>\n",
       "      <td>1</td>\n",
       "      <td>1</td>\n",
       "    </tr>\n",
       "    <tr>\n",
       "      <th>4</th>\n",
       "      <td>0</td>\n",
       "      <td>0</td>\n",
       "      <td>1</td>\n",
       "      <td>2</td>\n",
       "      <td>2</td>\n",
       "      <td>4</td>\n",
       "      <td>2</td>\n",
       "      <td>1</td>\n",
       "      <td>6</td>\n",
       "      <td>4</td>\n",
       "      <td>...</td>\n",
       "      <td>8</td>\n",
       "      <td>4</td>\n",
       "      <td>7</td>\n",
       "      <td>3</td>\n",
       "      <td>5</td>\n",
       "      <td>4</td>\n",
       "      <td>4</td>\n",
       "      <td>3</td>\n",
       "      <td>2</td>\n",
       "      <td>1</td>\n",
       "    </tr>\n",
       "  </tbody>\n",
       "</table>\n",
       "<p>5 rows × 40 columns</p>\n",
       "</div>"
      ],
      "text/plain": [
       "   0  0.1  1  3  1.1  2  4  7  8  3.1  ...  4.3  4.4  5.1  7.6  3.4  4.5  2.1  \\\n",
       "0  0    1  2  1    2  1  3  2  2    6  ...    3    5    4    4    5    5    1   \n",
       "1  0    1  1  3    3  2  6  2  5    9  ...   10    5    4    2    2    3    2   \n",
       "2  0    0  2  0    4  2  2  1  6    7  ...    3    5    6    3    3    4    2   \n",
       "3  0    1  1  3    3  1  3  5  2    4  ...    9    6    3    2    2    4    2   \n",
       "4  0    0  1  2    2  4  2  1  6    4  ...    8    4    7    3    5    4    4   \n",
       "\n",
       "   3.5  0.2  0.3  \n",
       "0    1    0    1  \n",
       "1    2    1    1  \n",
       "2    3    2    1  \n",
       "3    0    1    1  \n",
       "4    3    2    1  \n",
       "\n",
       "[5 rows x 40 columns]"
      ]
     },
     "execution_count": 1,
     "metadata": {},
     "output_type": "execute_result"
    }
   ],
   "source": [
    "# 1\n",
    "## Read a csv\n",
    "\n",
    "import pandas as pd\n",
    "\n",
    "file = pd.read_csv(\"data/inflammation-01.csv\")\n",
    "file.head()"
   ]
  },
  {
   "cell_type": "code",
   "execution_count": 2,
   "id": "b235145c",
   "metadata": {},
   "outputs": [],
   "source": [
    "# 2i\n",
    "## How would you create a function that outputs reverse compliment\n",
    "\n",
    "seq = \"atgcgat\"\n",
    "rev = \"tacgcta\"\n",
    "reC = \"atcgcat\"\n",
    "\n",
    "### Biopython function that does this\n",
    "###     for loop of seq:\n",
    "#          if a\n",
    "#               then a=t\n",
    "#          if t\n",
    "#               then t=a\n",
    "#          if c \n",
    "#               then c=g\n",
    "#          if g \n",
    "#               then g=c\n",
    "#          print string (print first 5 and last 5)\n",
    "#          string[:-5]\n",
    "#          reverse string (print first 5)\n",
    "###     save to .fasta"
   ]
  },
  {
   "cell_type": "code",
   "execution_count": 3,
   "id": "d48d1c66",
   "metadata": {},
   "outputs": [],
   "source": [
    "# 2ii\n",
    "## Given a folder of read counts and alignment, create a pileup \n",
    "\n",
    "### Range of alignment from 0 - 100\n",
    "# input files\n",
    "# output dataframe\n",
    "## ==>    0, 1, 2... 100\n",
    "## hist   3  1  3\n",
    "## (or line graph)    "
   ]
  },
  {
   "cell_type": "markdown",
   "id": "1b27dc32",
   "metadata": {},
   "source": [
    "[B]"
   ]
  },
  {
   "cell_type": "code",
   "execution_count": 4,
   "id": "8394684a",
   "metadata": {},
   "outputs": [
    {
     "name": "stdout",
     "output_type": "stream",
     "text": [
      "bar\n"
     ]
    }
   ],
   "source": [
    "x = {'foo':'bar'}\n",
    "y = {'baz':x}\n",
    "z = y['baz']['foo'][0:]\n",
    "print(z)"
   ]
  },
  {
   "cell_type": "code",
   "execution_count": 5,
   "id": "6728f98b",
   "metadata": {},
   "outputs": [
    {
     "data": {
      "text/plain": [
       "0.0009599999999999999"
      ]
     },
     "execution_count": 5,
     "metadata": {},
     "output_type": "execute_result"
    }
   ],
   "source": [
    "a = 0.1*0.08*.6*.2\n",
    "a"
   ]
  },
  {
   "cell_type": "code",
   "execution_count": 6,
   "id": "6d21bf84",
   "metadata": {},
   "outputs": [
    {
     "data": {
      "text/plain": [
       "0.05555555555555555"
      ]
     },
     "execution_count": 6,
     "metadata": {},
     "output_type": "execute_result"
    }
   ],
   "source": [
    "(1+1)/36"
   ]
  }
 ],
 "metadata": {
  "kernelspec": {
   "display_name": "Python 3",
   "language": "python",
   "name": "python3"
  },
  "language_info": {
   "codemirror_mode": {
    "name": "ipython",
    "version": 3
   },
   "file_extension": ".py",
   "mimetype": "text/x-python",
   "name": "python",
   "nbconvert_exporter": "python",
   "pygments_lexer": "ipython3",
   "version": "3.8.8"
  }
 },
 "nbformat": 4,
 "nbformat_minor": 5
}
