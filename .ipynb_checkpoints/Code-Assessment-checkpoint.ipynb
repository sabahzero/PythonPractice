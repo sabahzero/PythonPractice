{
 "cells": [
  {
   "cell_type": "code",
   "execution_count": 1,
   "id": "73cbe900",
   "metadata": {},
   "outputs": [
    {
     "name": "stdout",
     "output_type": "stream",
     "text": [
      "onetwo\n",
      "oe\n",
      "eno\n",
      "one\n"
     ]
    }
   ],
   "source": [
    "# Write a class that can store and process strings\n",
    "## Note there are better ways I could do this with more time \n",
    "\n",
    "class Strings:\n",
    "    \n",
    "    def __init__(self, string1, string2): \n",
    "        \n",
    "        text_file = open(\"string.txt\", \"wt\")\n",
    "        \n",
    "        self.string1 = string1\n",
    "        self.string2 = string1 + string2 # append new string to existing string\n",
    "        self.string3 = string1.replace('n', '') # removing a substring\n",
    "        self.string4 = string1[::-1] # mirroring a string\n",
    "        self.string5 = text_file.write(string1) # save/load string content to or from file\n",
    "        \n",
    "        text_file.close()\n",
    "        \n",
    "test = Strings(\"one\", \"two\")\n",
    "\n",
    "print(test.string2) \n",
    "print(test.string3) \n",
    "print(test.string4) \n",
    "\n",
    "test.string5\n",
    "f = open(\"string.txt\", 'r')\n",
    "f_contents = f.read()\n",
    "print(f_contents)"
   ]
  },
  {
   "cell_type": "code",
   "execution_count": null,
   "id": "d79fccdd",
   "metadata": {},
   "outputs": [],
   "source": []
  }
 ],
 "metadata": {
  "kernelspec": {
   "display_name": "Python 3",
   "language": "python",
   "name": "python3"
  },
  "language_info": {
   "codemirror_mode": {
    "name": "ipython",
    "version": 3
   },
   "file_extension": ".py",
   "mimetype": "text/x-python",
   "name": "python",
   "nbconvert_exporter": "python",
   "pygments_lexer": "ipython3",
   "version": "3.8.8"
  }
 },
 "nbformat": 4,
 "nbformat_minor": 5
}
